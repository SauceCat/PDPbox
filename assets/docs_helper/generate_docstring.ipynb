{
 "cells": [
  {
   "cell_type": "code",
   "execution_count": null,
   "id": "48d597f9-f6c5-47b4-a7f7-36ab5f2f494a",
   "metadata": {},
   "outputs": [],
   "source": [
    "import json\n",
    "import textwrap"
   ]
  },
  {
   "cell_type": "code",
   "execution_count": 28,
   "id": "7b2aa940-1c13-4450-9f08-da9318bbdc1a",
   "metadata": {},
   "outputs": [],
   "source": [
    "def wrap_text(text, width=79, indent='    '):\n",
    "    \"\"\"\n",
    "    Wraps the input text to a specified width.\n",
    "\n",
    "    Parameters\n",
    "    ----------\n",
    "    text : str\n",
    "        The text to be wrapped.\n",
    "    width : int, optional\n",
    "        The maximum length of a line. Default is 79 to conform to PEP 8.\n",
    "    indent : str, optional\n",
    "        The string that will be added as indent to the beginning of each line. \n",
    "        Default is four spaces.\n",
    "\n",
    "    Returns\n",
    "    -------\n",
    "    str\n",
    "        The wrapped text.\n",
    "    \"\"\"\n",
    "    return textwrap.fill(text, width, initial_indent=indent, subsequent_indent=indent)"
   ]
  },
  {
   "cell_type": "code",
   "execution_count": 23,
   "id": "54308315-31a4-4722-9b47-fddcb1cfecdd",
   "metadata": {},
   "outputs": [],
   "source": [
    "doc_items = [\n",
    "    {\n",
    "        \"type\": \"params\",\n",
    "        \"path\": \"/Users/sosuneko/Desktop/develop/PDPbox/assets/docs_helper/parameters.json\",\n",
    "        \"header\": [\"Parameters\", \"----------\"]\n",
    "    },\n",
    "    {\n",
    "        \"type\": \"returns\",\n",
    "        \"path\": \"/Users/sosuneko/Desktop/develop/PDPbox/assets/docs_helper/returns.json\",\n",
    "        \"header\": [\"Returns\", \"-------\"]\n",
    "    },\n",
    "    {\n",
    "        \"type\": \"attrs\",\n",
    "        \"path\": \"/Users/sosuneko/Desktop/develop/PDPbox/assets/docs_helper/attributes.json\",\n",
    "        \"header\": [\"Attributes\", \"----------\"]\n",
    "    },\n",
    "]"
   ]
  },
  {
   "cell_type": "code",
   "execution_count": 47,
   "id": "f931142f-87ff-41a3-b02a-7bb4730134cd",
   "metadata": {},
   "outputs": [],
   "source": [
    "def generate_docstring(doc_item, target, func_str):\n",
    "    with open(doc_item[\"path\"], \"r\") as fin:\n",
    "        raw_data = json.load(fin)\n",
    "    \n",
    "    target_items = [item for item in raw_data if target in item[\"target\"]]\n",
    "    docstring = []\n",
    "    if not len(target_items):\n",
    "        return docstring\n",
    "    \n",
    "    if doc_item[\"type\"] != \"returns\":\n",
    "        target_params = [line.split(\"=\")[0] for line in func_str.split(\"\\n\") if \"=\" in line]\n",
    "        item_dict = {item[\"param\"]: item for item in target_items}\n",
    "        target_items = [item_dict[param] for param in target_params]\n",
    "    \n",
    "    docstring += [\"\"] + doc_item[\"header\"]\n",
    "    for item in target_items:\n",
    "        desp = wrap_text(item['desp'])\n",
    "        if doc_item[\"type\"] == \"returns\":\n",
    "            docstring.append(\n",
    "                f\"{item['type']} : \\n{desp}\"\n",
    "            )\n",
    "        else:\n",
    "            docstring.append(\n",
    "                f\"{item['param']} : {item['type']}\\n{desp}\"\n",
    "            )\n",
    "    return docstring"
   ]
  },
  {
   "cell_type": "code",
   "execution_count": 50,
   "id": "b61cbaf0-61d7-468e-a3c6-e4ec9a6407b8",
   "metadata": {},
   "outputs": [],
   "source": [
    "target = \"_InfoPlot.plot\"\n",
    "func_str = \"\"\"\n",
    "which_classes=None,\n",
    "show_percentile=False,\n",
    "figsize=None,\n",
    "dpi=300,\n",
    "ncols=2,\n",
    "plot_params=None,\n",
    "engine=\"plotly\",\n",
    "template=\"plotly_white\",\n",
    "\"\"\"\n",
    "docstring = []\n",
    "for item in doc_items:\n",
    "    docstring += generate_docstring(item, target, func_str)"
   ]
  },
  {
   "cell_type": "code",
   "execution_count": 51,
   "id": "02fe70de-1058-4166-a183-99f209102739",
   "metadata": {},
   "outputs": [
    {
     "name": "stdout",
     "output_type": "stream",
     "text": [
      "\n",
      "Parameters\n",
      "----------\n",
      "which_classes : list of int, optional\n",
      "    List of class indices to plot. If None, all classes will be plotted.\n",
      "show_percentile : bool, optional\n",
      "    If True, percentiles are shown in the plot. Default is False.\n",
      "figsize : tuple or None, optional\n",
      "    The figure size for matplotlib or plotly figure. If None, the default\n",
      "    figure size is used. Default is None.\n",
      "dpi : int, optional\n",
      "    The resolution of the plot, measured in dots per inch. Only applicable when\n",
      "    `engine` is 'matplotlib'. Default is 300.\n",
      "ncols : int, optional\n",
      "    The number of columns of subplots in the figure. Default is 2.\n",
      "plot_params : dict or None, optional\n",
      "    Custom plot parameters that control the style and aesthetics of the plot.\n",
      "    Default is None.\n",
      "engine : {'matplotlib', 'plotly'}, optional\n",
      "    The plotting engine to use. Default is 'plotly'.\n",
      "template : str, optional\n",
      "    The template to use for plotly plots. Only applicable when `engine` is\n",
      "    'plotly'. Default is 'plotly_white'. Reference:\n",
      "    https://plotly.com/python/templates/\n",
      "\n",
      "Returns\n",
      "-------\n",
      "matplotlib.figure.Figure or plotly.graph_objects.Figure : \n",
      "    A Matplotlib or Plotly figure object depending on the plot engine being\n",
      "    used.\n",
      "dict of matplotlib.axes.Axes or None : \n",
      "    A dictionary of Matplotlib axes objects. The keys are the names of the\n",
      "    axes. The values are the axes objects. If `engine` is 'ploltly', it is\n",
      "    None.\n",
      "pd.DataFrame : \n",
      "    A Pandas DataFrame containing the summary statistics for each feature\n",
      "    bucket.\n"
     ]
    }
   ],
   "source": [
    "print(\"\\n\".join(docstring))"
   ]
  },
  {
   "cell_type": "code",
   "execution_count": 43,
   "id": "7d4e3e66-0924-42be-b51c-2144e2358afa",
   "metadata": {},
   "outputs": [
    {
     "data": {
      "text/plain": [
       "['',\n",
       " ['Parameters', '----------'],\n",
       " 'show_percentile : bool, optional\\n    If True, percentiles are shown in the plot. Default is False.',\n",
       " 'which_classes : list of int, optional\\n    List of class indices to plot. If None, all classes will be plotted.',\n",
       " 'figsize : tuple or None, optional\\n    The figure size for matplotlib or plotly figure. If None, the default\\n    figure size is used. Default is None.',\n",
       " \"dpi : int, optional\\n    The resolution of the plot, measured in dots per inch. Only applicable when\\n    `engine` is 'matplotlib'. Default is 300.\",\n",
       " 'ncols : int, optional\\n    The number of columns of subplots in the figure. Default is 2.',\n",
       " 'plot_params : dict or None, optional\\n    Custom plot parameters that control the style and aesthetics of the plot.\\n    Default is None.',\n",
       " \"engine : {'matplotlib', 'plotly'}, optional\\n    The plotting engine to use. Default is 'plotly'.\",\n",
       " \"template : str, optional\\n    The template to use for plotly plots. Only applicable when `engine` is\\n    'plotly'. Default is 'plotly_white'. Reference:\\n    https://plotly.com/python/templates/\",\n",
       " '',\n",
       " ['Returns', '-------'],\n",
       " 'matplotlib.figure.Figure or plotly.graph_objects.Figure : \\n    A Matplotlib or Plotly figure object depending on the plot engine being\\n    used.',\n",
       " \"dict of matplotlib.axes.Axes or None : \\n    A dictionary of Matplotlib axes objects. The keys are the names of the\\n    axes. The values are the axes objects. If `engine` is 'ploltly', it is\\n    None.\",\n",
       " 'pd.DataFrame : \\n    A Pandas DataFrame containing the summary statistics for each feature\\n    bucket.']"
      ]
     },
     "execution_count": 43,
     "metadata": {},
     "output_type": "execute_result"
    }
   ],
   "source": [
    "docstring"
   ]
  }
 ],
 "metadata": {
  "kernelspec": {
   "display_name": "Python 3 (ipykernel)",
   "language": "python",
   "name": "python3"
  },
  "language_info": {
   "codemirror_mode": {
    "name": "ipython",
    "version": 3
   },
   "file_extension": ".py",
   "mimetype": "text/x-python",
   "name": "python",
   "nbconvert_exporter": "python",
   "pygments_lexer": "ipython3",
   "version": "3.9.13"
  }
 },
 "nbformat": 4,
 "nbformat_minor": 5
}

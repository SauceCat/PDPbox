{
 "cells": [
  {
   "cell_type": "markdown",
   "metadata": {},
   "source": [
    "# Test PDPbox with Regression problem\n",
    "## Kaggle Rossmann store with RandomForest regressor\n",
    "This demo is based on **Rossmann Store Sales**  \n",
    "https://www.kaggle.com/c/rossmann-store-sales"
   ]
  },
  {
   "cell_type": "code",
   "execution_count": null,
   "metadata": {},
   "outputs": [],
   "source": [
    "%load_ext autoreload\n",
    "%autoreload 2\n",
    "\n",
    "import sys\n",
    "sys.path.insert(0, \"/Users/sosuneko/Desktop/develop/PDPbox\")"
   ]
  },
  {
   "cell_type": "code",
   "execution_count": null,
   "metadata": {},
   "outputs": [],
   "source": [
    "import pandas as pd\n",
    "from pdpbox import pdp, get_example, info_plots"
   ]
  },
  {
   "cell_type": "code",
   "execution_count": null,
   "metadata": {},
   "outputs": [],
   "source": [
    "import warnings\n",
    "warnings.filterwarnings(\"ignore\")"
   ]
  },
  {
   "cell_type": "markdown",
   "metadata": {},
   "source": [
    "# versions\n",
    "- `matplotlib`: 3.1.1\n",
    "- `sklearn`: 0.23.1"
   ]
  },
  {
   "cell_type": "code",
   "execution_count": null,
   "metadata": {},
   "outputs": [],
   "source": [
    "import matplotlib\n",
    "print(matplotlib.__version__)"
   ]
  },
  {
   "cell_type": "code",
   "execution_count": null,
   "metadata": {},
   "outputs": [],
   "source": [
    "import sklearn\n",
    "print(sklearn.__version__)\n",
    "\n",
    "from sklearn.model_selection import train_test_split\n",
    "from sklearn.ensemble import RandomForestRegressor"
   ]
  },
  {
   "cell_type": "markdown",
   "metadata": {},
   "source": [
    "# train a simple RandomForestRegressor\n",
    "We assume there is a `rossmann-store-sales` data folder under the same directory. The dataset is directly downloaded from kaggle with command `kaggle competitions download -c rossmann-store-sales`."
   ]
  },
  {
   "cell_type": "code",
   "execution_count": null,
   "metadata": {},
   "outputs": [],
   "source": [
    "! ls rossmann-store-sales/"
   ]
  },
  {
   "cell_type": "code",
   "execution_count": null,
   "metadata": {},
   "outputs": [],
   "source": [
    "train_df = pd.read_csv('rossmann-store-sales/train.csv')\n",
    "store_df = pd.read_csv('rossmann-store-sales/store.csv')\n",
    "print(train_df.shape, store_df.shape)"
   ]
  },
  {
   "cell_type": "code",
   "execution_count": null,
   "metadata": {},
   "outputs": [],
   "source": [
    "train_df.head()"
   ]
  },
  {
   "cell_type": "code",
   "execution_count": null,
   "metadata": {},
   "outputs": [],
   "source": [
    "store_df.head()"
   ]
  },
  {
   "cell_type": "code",
   "execution_count": null,
   "metadata": {},
   "outputs": [],
   "source": [
    "train_df = train_df.merge(store_df, on='Store', how='left')\n",
    "print(train_df.shape)"
   ]
  },
  {
   "cell_type": "markdown",
   "metadata": {},
   "source": [
    "## simple feature engineering"
   ]
  },
  {
   "cell_type": "code",
   "execution_count": null,
   "metadata": {},
   "outputs": [],
   "source": [
    "ross_data = train_df.copy()\n",
    "ross_data['Date'] = pd.to_datetime(ross_data['Date'])\n",
    "ross_data['month'] = ross_data['Date'].dt.month\n",
    "ross_data['weekofyear'] = ross_data['Date'].dt.weekofyear\n",
    "\n",
    "uni_values = {\n",
    "    'StateHoliday': ['a', 'b', 'c'],\n",
    "    'StoreType': ['a', 'b', 'c', 'd'],\n",
    "    'Assortment': ['a', 'b', 'c']\n",
    "}\n",
    "\n",
    "for col in uni_values:\n",
    "    for value in uni_values[col]:\n",
    "        ross_data['{}_{}'.format(col, value)] = (ross_data[col] == value).map(int)"
   ]
  },
  {
   "cell_type": "code",
   "execution_count": null,
   "metadata": {},
   "outputs": [],
   "source": [
    "features = [\n",
    "    'DayOfWeek', 'SchoolHoliday', 'month', 'weekofyear', \n",
    "    'StateHoliday_a', 'StateHoliday_b', 'StateHoliday_c', \n",
    "    'StoreType_a', 'StoreType_b', 'StoreType_c', 'StoreType_d', \n",
    "    'Assortment_a', 'Assortment_b', 'Assortment_c'\n",
    "]\n",
    "target = 'Sales'\n",
    "X_train, X_test, y_train, y_test = train_test_split(\n",
    "    ross_data[features], ross_data[target], test_size = 0.2, random_state=42)"
   ]
  },
  {
   "cell_type": "code",
   "execution_count": null,
   "metadata": {},
   "outputs": [],
   "source": [
    "%%time\n",
    "regressor = RandomForestRegressor(\n",
    "    n_estimators=50, \n",
    "    criterion='mse',\n",
    "    n_jobs=4,\n",
    "    random_state=42\n",
    ")\n",
    "regressor.fit(X_train, y_train)"
   ]
  },
  {
   "cell_type": "code",
   "execution_count": null,
   "metadata": {},
   "outputs": [],
   "source": [
    "regressor.score(X_test, y_test)"
   ]
  },
  {
   "cell_type": "code",
   "execution_count": null,
   "metadata": {},
   "outputs": [],
   "source": [
    "ross_features = features\n",
    "ross_model = regressor\n",
    "ross_target = target"
   ]
  },
  {
   "cell_type": "markdown",
   "metadata": {},
   "source": [
    "# [for internal usage] save for unit test and tutorial"
   ]
  },
  {
   "cell_type": "raw",
   "metadata": {},
   "source": [
    "import joblib\n",
    "import json"
   ]
  },
  {
   "cell_type": "raw",
   "metadata": {},
   "source": [
    "! mkdir ../pdpbox/datasets/ross"
   ]
  },
  {
   "cell_type": "raw",
   "metadata": {},
   "source": [
    "ross_data.to_csv('../pdpbox/datasets/ross/ross_data.csv', index=False)\n",
    "joblib.dump(ross_model, '../pdpbox/datasets/ross/ross_model.pkl')\n",
    "\n",
    "with open('../pdpbox/datasets/ross/ross_info.json', 'w') as fout:\n",
    "    json.dump({\n",
    "        'features': ross_features,\n",
    "        'target': ross_target\n",
    "    }, fout, indent=4)"
   ]
  },
  {
   "cell_type": "markdown",
   "metadata": {},
   "source": [
    "# or you can directory load the data and model"
   ]
  },
  {
   "cell_type": "code",
   "execution_count": null,
   "metadata": {},
   "outputs": [],
   "source": [
    "test_ross = get_example.ross()\n",
    "test_ross.keys()"
   ]
  },
  {
   "cell_type": "code",
   "execution_count": null,
   "metadata": {},
   "outputs": [],
   "source": [
    "ross_data = test_ross['data']\n",
    "ross_features = test_ross['features']\n",
    "ross_model = test_ross['rf_model']\n",
    "ross_target = test_ross['target']"
   ]
  },
  {
   "cell_type": "code",
   "execution_count": null,
   "metadata": {},
   "outputs": [],
   "source": [
    "hasattr(ross_model, \"predict_proba\")"
   ]
  },
  {
   "cell_type": "code",
   "execution_count": null,
   "metadata": {},
   "outputs": [],
   "source": [
    "ross_data.shape"
   ]
  },
  {
   "cell_type": "code",
   "execution_count": null,
   "metadata": {},
   "outputs": [],
   "source": [
    "ross_data.head()"
   ]
  },
  {
   "cell_type": "markdown",
   "metadata": {},
   "source": [
    "# 1. Binary feature: SchoolHoliday"
   ]
  },
  {
   "cell_type": "markdown",
   "metadata": {},
   "source": [
    "## 1.1 target distribution through feature 'SchoolHoliday'"
   ]
  },
  {
   "cell_type": "code",
   "execution_count": null,
   "metadata": {},
   "outputs": [],
   "source": [
    "target_school_holiday = info_plots.TargetPlot(\n",
    "    df=ross_data,\n",
    "    feature=\"SchoolHoliday\",\n",
    "    feature_name=\"SchoolHoliday\",\n",
    "    target=ross_target,\n",
    ")"
   ]
  },
  {
   "cell_type": "code",
   "execution_count": null,
   "metadata": {},
   "outputs": [],
   "source": [
    "fig, axes, summary_df = target_school_holiday.plot(\n",
    "    figsize=None,\n",
    "    ncols=2,\n",
    "    plot_params=None,\n",
    "    engine='plotly',\n",
    "    template='plotly_white',\n",
    ")\n",
    "fig"
   ]
  },
  {
   "cell_type": "code",
   "execution_count": null,
   "metadata": {},
   "outputs": [],
   "source": [
    "summary_df"
   ]
  },
  {
   "cell_type": "code",
   "execution_count": null,
   "metadata": {},
   "outputs": [],
   "source": [
    "fig, axes, summary_df = target_school_holiday.plot(\n",
    "    figsize=None,\n",
    "    dpi=300,\n",
    "    ncols=2,\n",
    "    plot_params=None,\n",
    "    engine='matplotlib',\n",
    ")"
   ]
  },
  {
   "cell_type": "markdown",
   "metadata": {},
   "source": [
    "## 1.2 check prediction distribution through feature 'SchoolHoliday'"
   ]
  },
  {
   "cell_type": "code",
   "execution_count": null,
   "metadata": {},
   "outputs": [],
   "source": [
    "predict_school_holiday = info_plots.PredictPlot(\n",
    "    model=ross_model,\n",
    "    df=ross_data,\n",
    "    model_features=ross_features,\n",
    "    feature=\"SchoolHoliday\",\n",
    "    feature_name=\"SchoolHoliday\",\n",
    "    pred_func=None,\n",
    "    n_classes=0,\n",
    "    predict_kwds={},\n",
    "    chunk_size=-1,\n",
    ")"
   ]
  },
  {
   "cell_type": "code",
   "execution_count": null,
   "metadata": {},
   "outputs": [],
   "source": [
    "fig, axes, summary_df = predict_school_holiday.plot(\n",
    "    figsize=None,\n",
    "    ncols=2,\n",
    "    plot_params={\"gaps\": {\"inner_y\": 0.05}},\n",
    "    engine='plotly',\n",
    "    template='plotly_white',\n",
    ")\n",
    "fig"
   ]
  },
  {
   "cell_type": "code",
   "execution_count": null,
   "metadata": {},
   "outputs": [],
   "source": [
    "summary_df"
   ]
  },
  {
   "cell_type": "code",
   "execution_count": null,
   "metadata": {},
   "outputs": [],
   "source": [
    "fig, axes, summary_df = predict_school_holiday.plot(\n",
    "    figsize=None,\n",
    "    dpi=300,\n",
    "    ncols=2,\n",
    "    plot_params=None,\n",
    "    engine='matplotlib',\n",
    ")"
   ]
  },
  {
   "cell_type": "markdown",
   "metadata": {},
   "source": [
    "## 1.3 pdp for feature 'SchoolHoliday'"
   ]
  },
  {
   "cell_type": "code",
   "execution_count": null,
   "metadata": {},
   "outputs": [],
   "source": [
    "pdp_SchoolHoliday = pdp.PDPIsolate(\n",
    "    model=ross_model,\n",
    "    df=ross_data,\n",
    "    model_features=ross_features,\n",
    "    feature='SchoolHoliday',\n",
    "    feature_name=\"SchoolHoliday\",\n",
    "    n_classes=0,\n",
    ")"
   ]
  },
  {
   "cell_type": "code",
   "execution_count": null,
   "metadata": {},
   "outputs": [],
   "source": [
    "fig, axes = pdp_SchoolHoliday.plot(\n",
    "    center=True,\n",
    "    plot_lines=False,\n",
    "    frac_to_plot=100,\n",
    "    cluster=False,\n",
    "    n_cluster_centers=None,\n",
    "    cluster_method='accurate',\n",
    "    plot_pts_dist=False,\n",
    "    to_bins=False,\n",
    "    show_percentile=True,\n",
    "    which_classes=None,\n",
    "    figsize=None,\n",
    "    dpi=300,\n",
    "    ncols=2,\n",
    "    plot_params={\"pdp_hl\": True},\n",
    "    engine='plotly',\n",
    "    template='plotly_white',\n",
    ")\n",
    "fig"
   ]
  },
  {
   "cell_type": "code",
   "execution_count": null,
   "metadata": {},
   "outputs": [],
   "source": [
    "fig, axes = pdp_SchoolHoliday.plot(\n",
    "    center=True,\n",
    "    plot_lines=True,\n",
    "    frac_to_plot=100,\n",
    "    cluster=False,\n",
    "    n_cluster_centers=None,\n",
    "    cluster_method='accurate',\n",
    "    plot_pts_dist=False,\n",
    "    to_bins=False,\n",
    "    show_percentile=True,\n",
    "    which_classes=None,\n",
    "    figsize=None,\n",
    "    dpi=300,\n",
    "    ncols=2,\n",
    "    plot_params={\"pdp_hl\": True},\n",
    "    engine='matplotlib',\n",
    "    template='plotly_white',\n",
    ")"
   ]
  },
  {
   "cell_type": "markdown",
   "metadata": {},
   "source": [
    "# 2. one-hot encoding feature: StoreType"
   ]
  },
  {
   "cell_type": "markdown",
   "metadata": {},
   "source": [
    "## 2.1 target distribution through feature 'StoreType'"
   ]
  },
  {
   "cell_type": "code",
   "execution_count": null,
   "metadata": {},
   "outputs": [],
   "source": [
    "target_store_type = info_plots.TargetPlot(\n",
    "    df=ross_data,\n",
    "    feature=['StoreType_a', 'StoreType_b', 'StoreType_c', 'StoreType_d'],\n",
    "    feature_name=\"StoreType\",\n",
    "    target=ross_target,\n",
    ")"
   ]
  },
  {
   "cell_type": "code",
   "execution_count": null,
   "metadata": {},
   "outputs": [],
   "source": [
    "fig, axes, summary_df = target_store_type.plot(\n",
    "    figsize=None,\n",
    "    ncols=2,\n",
    "    plot_params=None,\n",
    "    engine='plotly',\n",
    "    template='plotly_white',\n",
    ")\n",
    "fig"
   ]
  },
  {
   "cell_type": "code",
   "execution_count": null,
   "metadata": {},
   "outputs": [],
   "source": [
    "summary_df"
   ]
  },
  {
   "cell_type": "code",
   "execution_count": null,
   "metadata": {},
   "outputs": [],
   "source": [
    "fig, axes, summary_df = target_store_type.plot(\n",
    "    figsize=None,\n",
    "    dpi=300,\n",
    "    ncols=2,\n",
    "    plot_params=None,\n",
    "    engine='matplotlib',\n",
    ")"
   ]
  },
  {
   "cell_type": "markdown",
   "metadata": {},
   "source": [
    "## 2.2 check prediction distribution through feature 'StoreType'"
   ]
  },
  {
   "cell_type": "code",
   "execution_count": null,
   "metadata": {},
   "outputs": [],
   "source": [
    "predict_store_type = info_plots.PredictPlot(\n",
    "    model=ross_model,\n",
    "    df=ross_data,\n",
    "    model_features=ross_features,\n",
    "    feature=['StoreType_a', 'StoreType_b', 'StoreType_c', 'StoreType_d'],\n",
    "    feature_name=\"StoreType\",\n",
    "    pred_func=None,\n",
    "    n_classes=0,\n",
    "    predict_kwds={},\n",
    "    chunk_size=-1,\n",
    ")"
   ]
  },
  {
   "cell_type": "code",
   "execution_count": null,
   "metadata": {},
   "outputs": [],
   "source": [
    "fig, axes, summary_df = predict_store_type.plot(\n",
    "    figsize=None,\n",
    "    ncols=2,\n",
    "    plot_params=None,\n",
    "    engine='plotly',\n",
    "    template='plotly_white',\n",
    ")\n",
    "fig"
   ]
  },
  {
   "cell_type": "code",
   "execution_count": null,
   "metadata": {},
   "outputs": [],
   "source": [
    "summary_df"
   ]
  },
  {
   "cell_type": "code",
   "execution_count": null,
   "metadata": {},
   "outputs": [],
   "source": [
    "fig, axes, summary_df = predict_store_type.plot(\n",
    "    figsize=None,\n",
    "    dpi=300,\n",
    "    ncols=2,\n",
    "    plot_params=None,\n",
    "    engine='matplotlib',\n",
    ")"
   ]
  },
  {
   "cell_type": "code",
   "execution_count": null,
   "metadata": {},
   "outputs": [],
   "source": [
    "def ross_predict(model, X, predict_kwds={}):\n",
    "    return model.predict(X, **predict_kwds) + 100\n",
    "\n",
    "predict_store_type = info_plots.PredictPlot(\n",
    "    model=ross_model,\n",
    "    df=ross_data,\n",
    "    model_features=ross_features,\n",
    "    feature=['StoreType_a', 'StoreType_b', 'StoreType_c', 'StoreType_d'],\n",
    "    feature_name=\"StoreType\",\n",
    "    pred_func=ross_predict,\n",
    "    n_classes=0,\n",
    "    predict_kwds={},\n",
    "    chunk_size=-1,\n",
    ")\n",
    "\n",
    "fig, axes, summary_df = predict_store_type.plot(\n",
    "    figsize=None,\n",
    "    ncols=2,\n",
    "    plot_params=None,\n",
    "    engine='plotly',\n",
    "    template='plotly_white',\n",
    ")\n",
    "fig"
   ]
  },
  {
   "cell_type": "markdown",
   "metadata": {},
   "source": [
    "## 2.3 pdp for feature 'StoreType'"
   ]
  },
  {
   "cell_type": "code",
   "execution_count": null,
   "metadata": {},
   "outputs": [],
   "source": [
    "pdp_StoreType = pdp.PDPIsolate(\n",
    "    model=ross_model,\n",
    "    df=ross_data,\n",
    "    model_features=ross_features,\n",
    "    feature=['StoreType_a', 'StoreType_b', 'StoreType_c', 'StoreType_d'],\n",
    "    feature_name=\"StoreType\",\n",
    "    n_classes=0,\n",
    ")"
   ]
  },
  {
   "cell_type": "code",
   "execution_count": null,
   "metadata": {},
   "outputs": [],
   "source": [
    "fig, axes = pdp_StoreType.plot(\n",
    "    center=True,\n",
    "    plot_lines=True,\n",
    "    frac_to_plot=100,\n",
    "    cluster=False,\n",
    "    n_cluster_centers=None,\n",
    "    cluster_method='accurate',\n",
    "    plot_pts_dist=False,\n",
    "    to_bins=False,\n",
    "    show_percentile=True,\n",
    "    which_classes=None,\n",
    "    figsize=None,\n",
    "    dpi=300,\n",
    "    ncols=2,\n",
    "    plot_params={\"pdp_hl\": True},\n",
    "    engine='matplotlib',\n",
    "    template='plotly_white',\n",
    ")"
   ]
  },
  {
   "cell_type": "code",
   "execution_count": null,
   "metadata": {},
   "outputs": [],
   "source": [
    "fig, axes = pdp_StoreType.plot(\n",
    "    center=True,\n",
    "    plot_lines=True,\n",
    "    frac_to_plot=100,\n",
    "    cluster=False,\n",
    "    n_cluster_centers=None,\n",
    "    cluster_method='accurate',\n",
    "    plot_pts_dist=False,\n",
    "    to_bins=False,\n",
    "    show_percentile=True,\n",
    "    which_classes=None,\n",
    "    figsize=None,\n",
    "    dpi=300,\n",
    "    ncols=2,\n",
    "    plot_params={\"pdp_hl\": True},\n",
    "    engine='plotly',\n",
    "    template='plotly_white',\n",
    ")\n",
    "fig"
   ]
  },
  {
   "cell_type": "markdown",
   "metadata": {},
   "source": [
    "# 3. numeric feature: weekofyear"
   ]
  },
  {
   "cell_type": "markdown",
   "metadata": {},
   "source": [
    "## 3.1 target distribution through feature 'weekofyear'"
   ]
  },
  {
   "cell_type": "code",
   "execution_count": null,
   "metadata": {},
   "outputs": [],
   "source": [
    "target_weekofyear = info_plots.TargetPlot(\n",
    "    df=ross_data,\n",
    "    feature=\"weekofyear\",\n",
    "    feature_name=\"weekofyear\",\n",
    "    target=ross_target,\n",
    "    num_grid_points=10,\n",
    "    grid_type='percentile',\n",
    "    percentile_range=None,\n",
    "    grid_range=None,\n",
    "    cust_grid_points=None,\n",
    "    show_outliers=False,\n",
    "    endpoint=True,\n",
    ")"
   ]
  },
  {
   "cell_type": "code",
   "execution_count": null,
   "metadata": {},
   "outputs": [],
   "source": [
    "fig, axes, summary_df = target_weekofyear.plot(\n",
    "    show_percentile=True,\n",
    "    figsize=None,\n",
    "    ncols=2,\n",
    "    plot_params=None,\n",
    "    engine='plotly',\n",
    "    template='plotly_white',\n",
    ")\n",
    "fig"
   ]
  },
  {
   "cell_type": "code",
   "execution_count": null,
   "metadata": {},
   "outputs": [],
   "source": [
    "summary_df"
   ]
  },
  {
   "cell_type": "code",
   "execution_count": null,
   "metadata": {},
   "outputs": [],
   "source": [
    "fig, axes, summary_df = target_weekofyear.plot(\n",
    "    show_percentile=True,\n",
    "    figsize=None,\n",
    "    dpi=300,\n",
    "    ncols=2,\n",
    "    plot_params=None,\n",
    "    engine='matplotlib',\n",
    ")"
   ]
  },
  {
   "cell_type": "markdown",
   "metadata": {},
   "source": [
    "## 3.2 check prediction distribution through feature 'weekofyear'"
   ]
  },
  {
   "cell_type": "code",
   "execution_count": null,
   "metadata": {},
   "outputs": [],
   "source": [
    "predict_weekofyear = info_plots.PredictPlot(\n",
    "    model=ross_model,\n",
    "    df=ross_data,\n",
    "    model_features=ross_features,\n",
    "    feature=\"weekofyear\",\n",
    "    feature_name=\"weekofyear\",\n",
    "    pred_func=None,\n",
    "    n_classes=0,\n",
    "    num_grid_points=10,\n",
    "    grid_type='percentile',\n",
    "    percentile_range=None,\n",
    "    grid_range=None,\n",
    "    cust_grid_points=None,\n",
    "    show_outliers=False,\n",
    "    endpoint=True,\n",
    "    predict_kwds={},\n",
    "    chunk_size=-1,\n",
    ")"
   ]
  },
  {
   "cell_type": "code",
   "execution_count": null,
   "metadata": {},
   "outputs": [],
   "source": [
    "fig, axes, summary_df = predict_weekofyear.plot(\n",
    "    show_percentile=True,\n",
    "    figsize=None,\n",
    "    ncols=2,\n",
    "    plot_params=None,\n",
    "    engine='plotly',\n",
    "    template='plotly_white',\n",
    ")\n",
    "fig"
   ]
  },
  {
   "cell_type": "code",
   "execution_count": null,
   "metadata": {},
   "outputs": [],
   "source": [
    "summary_df"
   ]
  },
  {
   "cell_type": "code",
   "execution_count": null,
   "metadata": {},
   "outputs": [],
   "source": [
    "fig, axes, summary_df = predict_weekofyear.plot(\n",
    "    show_percentile=True,\n",
    "    figsize=None,\n",
    "    dpi=300,\n",
    "    ncols=2,\n",
    "    plot_params=None,\n",
    "    engine='matplotlib',\n",
    ")"
   ]
  },
  {
   "cell_type": "markdown",
   "metadata": {},
   "source": [
    "## 3.3 pdp for feature 'weekofyear'"
   ]
  },
  {
   "cell_type": "code",
   "execution_count": null,
   "metadata": {},
   "outputs": [],
   "source": [
    "pdp_weekofyear = pdp.PDPIsolate(\n",
    "    model=ross_model,\n",
    "    df=ross_data,\n",
    "    model_features=ross_features,\n",
    "    feature=\"weekofyear\",\n",
    "    feature_name=\"weekofyear\",\n",
    "    n_classes=0,\n",
    ")"
   ]
  },
  {
   "cell_type": "code",
   "execution_count": null,
   "metadata": {},
   "outputs": [],
   "source": [
    "fig, axes = pdp_weekofyear.plot(\n",
    "    center=True,\n",
    "    plot_lines=True,\n",
    "    frac_to_plot=100,\n",
    "    cluster=False,\n",
    "    n_cluster_centers=None,\n",
    "    cluster_method='accurate',\n",
    "    plot_pts_dist=True,\n",
    "    to_bins=True,\n",
    "    show_percentile=True,\n",
    "    which_classes=None,\n",
    "    figsize=None,\n",
    "    dpi=300,\n",
    "    ncols=2,\n",
    "    plot_params={\"pdp_hl\": True},\n",
    "    engine='matplotlib',\n",
    "    template='plotly_white',\n",
    ")"
   ]
  },
  {
   "cell_type": "code",
   "execution_count": null,
   "metadata": {},
   "outputs": [],
   "source": [
    "fig, axes = pdp_weekofyear.plot(\n",
    "    center=True,\n",
    "    plot_lines=True,\n",
    "    frac_to_plot=100,\n",
    "    cluster=False,\n",
    "    n_cluster_centers=None,\n",
    "    cluster_method='accurate',\n",
    "    plot_pts_dist=True,\n",
    "    to_bins=True,\n",
    "    show_percentile=True,\n",
    "    which_classes=None,\n",
    "    figsize=None,\n",
    "    dpi=300,\n",
    "    ncols=2,\n",
    "    plot_params={\"pdp_hl\": True},\n",
    "    engine='plotly',\n",
    "    template='plotly_white',\n",
    ")\n",
    "fig"
   ]
  },
  {
   "cell_type": "markdown",
   "metadata": {},
   "source": [
    "# 4. Interaction between two variables: weekofyear and StoreType"
   ]
  },
  {
   "cell_type": "markdown",
   "metadata": {},
   "source": [
    "## 4.1 target distribution through feature combination of 'weekofyear' and 'StoreType'"
   ]
  },
  {
   "cell_type": "code",
   "execution_count": null,
   "metadata": {},
   "outputs": [],
   "source": [
    "target_weekofyear_storetype = info_plots.InterectTargetPlot(\n",
    "    df=ross_data,\n",
    "    features=['weekofyear', ['StoreType_a', 'StoreType_b', 'StoreType_c', 'StoreType_d']],\n",
    "    feature_names=['weekofyear', 'StoreType'],\n",
    "    target=ross_target,\n",
    "    num_grid_points=10,\n",
    "    grid_types='percentile',\n",
    "    percentile_ranges=None,\n",
    "    grid_ranges=None,\n",
    "    cust_grid_points=None,\n",
    "    show_outliers=False,\n",
    "    endpoints=True,\n",
    ")"
   ]
  },
  {
   "cell_type": "code",
   "execution_count": null,
   "metadata": {},
   "outputs": [],
   "source": [
    "fig, axes, summary_df = target_weekofyear_storetype.plot(\n",
    "    show_percentile=True,\n",
    "    figsize=None,\n",
    "    ncols=2,\n",
    "    annotate=True,\n",
    "    plot_params={\"subplot_ratio\": {\"y\": [7, 0.8]}, \"gaps\": {\"inner_y\": 0.2}},\n",
    "    engine='plotly',\n",
    "    template='plotly_white',\n",
    ")\n",
    "fig"
   ]
  },
  {
   "cell_type": "code",
   "execution_count": null,
   "metadata": {},
   "outputs": [],
   "source": [
    "summary_df.head()"
   ]
  },
  {
   "cell_type": "code",
   "execution_count": null,
   "metadata": {},
   "outputs": [],
   "source": [
    "fig, axes, summary_df = target_weekofyear_storetype.plot(\n",
    "    show_percentile=True,\n",
    "    figsize=None,\n",
    "    ncols=2,\n",
    "    annotate=True,\n",
    "    plot_params=None,\n",
    "    engine='matplotlib',\n",
    ")"
   ]
  },
  {
   "cell_type": "markdown",
   "metadata": {},
   "source": [
    "## 4.2 prediction distribution through feature combination of 'weekofyear' and 'StoreType'"
   ]
  },
  {
   "cell_type": "code",
   "execution_count": null,
   "metadata": {},
   "outputs": [],
   "source": [
    "predict_weekofyear_storetype = info_plots.InterectPredictPlot(\n",
    "    model=ross_model,\n",
    "    df=ross_data,\n",
    "    model_features=ross_features,\n",
    "    n_classes=0,\n",
    "    features=['weekofyear', ['StoreType_a', 'StoreType_b', 'StoreType_c', 'StoreType_d']],\n",
    "    feature_names=['weekofyear', 'StoreType'],\n",
    "    num_grid_points=10,\n",
    "    grid_types='percentile',\n",
    "    percentile_ranges=None,\n",
    "    grid_ranges=None,\n",
    "    cust_grid_points=None,\n",
    "    show_outliers=False,\n",
    "    endpoints=True,\n",
    ")"
   ]
  },
  {
   "cell_type": "code",
   "execution_count": null,
   "metadata": {},
   "outputs": [],
   "source": [
    "fig, axes, summary_df = predict_weekofyear_storetype.plot(\n",
    "    show_percentile=True,\n",
    "    figsize=None,\n",
    "    annotate=True,\n",
    "    plot_params=None,\n",
    "    engine='plotly',\n",
    "    template='plotly_white',\n",
    ")\n",
    "fig"
   ]
  },
  {
   "cell_type": "code",
   "execution_count": null,
   "metadata": {},
   "outputs": [],
   "source": [
    "summary_df.head()"
   ]
  },
  {
   "cell_type": "code",
   "execution_count": null,
   "metadata": {},
   "outputs": [],
   "source": [
    "fig, axes, summary_df = predict_weekofyear_storetype.plot(\n",
    "    show_percentile=True,\n",
    "    figsize=None,\n",
    "    ncols=2,\n",
    "    annotate=True,\n",
    "    plot_params=None,\n",
    "    engine='matplotlib',\n",
    ")"
   ]
  },
  {
   "cell_type": "markdown",
   "metadata": {},
   "source": [
    "## 4.3 pdp for feature combination of 'weekofyear' and 'StoreType'"
   ]
  },
  {
   "cell_type": "code",
   "execution_count": null,
   "metadata": {},
   "outputs": [],
   "source": [
    "pdp_inter = pdp.PDPInteract(\n",
    "    model=ross_model,\n",
    "    df=ross_data,\n",
    "    model_features=ross_features,\n",
    "    n_classes=0,\n",
    "    features=['weekofyear', ['StoreType_a', 'StoreType_b', 'StoreType_c', 'StoreType_d']],\n",
    "    feature_names=['weekofyear', 'storetype'],\n",
    ")"
   ]
  },
  {
   "cell_type": "code",
   "execution_count": null,
   "metadata": {},
   "outputs": [],
   "source": [
    "fig, axes = pdp_inter.plot(\n",
    "    plot_type=\"contour\",\n",
    "    to_bins=True,\n",
    "    plot_pdp=True,\n",
    "    show_percentile=False,\n",
    "    which_classes=None,\n",
    "    figsize=None,\n",
    "    dpi=300,\n",
    "    ncols=2,\n",
    "    plot_params=None,\n",
    "    engine=\"matplotlib\",\n",
    "    template=\"plotly_white\",\n",
    ")"
   ]
  },
  {
   "cell_type": "code",
   "execution_count": null,
   "metadata": {},
   "outputs": [],
   "source": [
    "fig, axes = pdp_inter.plot(\n",
    "    plot_type=\"contour\",\n",
    "    to_bins=True,\n",
    "    plot_pdp=True,\n",
    "    show_percentile=True,\n",
    "    which_classes=None,\n",
    "    figsize=None,\n",
    "    dpi=300,\n",
    "    ncols=2,\n",
    "    plot_params=None,\n",
    "    engine=\"plotly\",\n",
    "    template=\"plotly_white\",\n",
    ")\n",
    "fig"
   ]
  }
 ],
 "metadata": {
  "anaconda-cloud": {},
  "kernelspec": {
   "display_name": "Python 3 (ipykernel)",
   "language": "python",
   "name": "python3"
  },
  "language_info": {
   "codemirror_mode": {
    "name": "ipython",
    "version": 3
   },
   "file_extension": ".py",
   "mimetype": "text/x-python",
   "name": "python",
   "nbconvert_exporter": "python",
   "pygments_lexer": "ipython3",
   "version": "3.9.13"
  }
 },
 "nbformat": 4,
 "nbformat_minor": 4
}

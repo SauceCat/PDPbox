{
 "cells": [
  {
   "cell_type": "markdown",
   "metadata": {},
   "source": [
    "# Test PDPbox with multiclass classification problem\n",
    "## Kaggle Otto Group with RandomForest\n",
    "This demo is based on **Otto Group Product Classification Challenge**  \n",
    "https://www.kaggle.com/c/otto-group-product-classification-challenge"
   ]
  },
  {
   "cell_type": "code",
   "execution_count": null,
   "metadata": {},
   "outputs": [],
   "source": [
    "%load_ext autoreload\n",
    "%autoreload 2\n",
    "\n",
    "import sys\n",
    "sys.path.insert(0, \"/Users/sosuneko/Desktop/develop/PDPbox\")"
   ]
  },
  {
   "cell_type": "code",
   "execution_count": null,
   "metadata": {},
   "outputs": [],
   "source": [
    "import pandas as pd\n",
    "from pdpbox import pdp, get_example, info_plots"
   ]
  },
  {
   "cell_type": "code",
   "execution_count": null,
   "metadata": {},
   "outputs": [],
   "source": [
    "import warnings\n",
    "warnings.filterwarnings(\"ignore\")"
   ]
  },
  {
   "cell_type": "markdown",
   "metadata": {},
   "source": [
    "# versions\n",
    "- `matplotlib`: 3.1.1\n",
    "- `sklearn`: 0.23.1"
   ]
  },
  {
   "cell_type": "code",
   "execution_count": null,
   "metadata": {},
   "outputs": [],
   "source": [
    "import matplotlib\n",
    "print(matplotlib.__version__)"
   ]
  },
  {
   "cell_type": "code",
   "execution_count": null,
   "metadata": {},
   "outputs": [],
   "source": [
    "import sklearn\n",
    "print(sklearn.__version__)\n",
    "\n",
    "from sklearn.model_selection import train_test_split\n",
    "from sklearn.ensemble import RandomForestClassifier"
   ]
  },
  {
   "cell_type": "markdown",
   "metadata": {},
   "source": [
    "# train a simple RandomForestClassifier\n",
    "We assume there is a `otto-group-product-classification-challenge` data folder under the same directory. The dataset is directly downloaded from kaggle with command `kaggle competitions download -c otto-group-product-classification-challenge`."
   ]
  },
  {
   "cell_type": "code",
   "execution_count": null,
   "metadata": {},
   "outputs": [],
   "source": [
    "! ls otto-group-product-classification-challenge"
   ]
  },
  {
   "cell_type": "code",
   "execution_count": null,
   "metadata": {},
   "outputs": [],
   "source": [
    "train_df = pd.read_csv('otto-group-product-classification-challenge/train.csv')\n",
    "print(train_df.shape)"
   ]
  },
  {
   "cell_type": "code",
   "execution_count": null,
   "metadata": {},
   "outputs": [],
   "source": [
    "train_df.head()"
   ]
  },
  {
   "cell_type": "code",
   "execution_count": null,
   "metadata": {},
   "outputs": [],
   "source": [
    "features = [\n",
    "    'feat_1', 'feat_2', 'feat_3', 'feat_4', 'feat_5', 'feat_6', 'feat_7', 'feat_8', 'feat_9', 'feat_10',\n",
    "    'feat_11', 'feat_12', 'feat_13', 'feat_14', 'feat_15', 'feat_16', 'feat_17', 'feat_18', 'feat_19',\n",
    "    'feat_20', 'feat_21', 'feat_22', 'feat_23', 'feat_24', 'feat_25', 'feat_26', 'feat_27', 'feat_28',\n",
    "    'feat_29', 'feat_30', 'feat_31', 'feat_32', 'feat_33', 'feat_34', 'feat_35', 'feat_36', 'feat_37',\n",
    "    'feat_38', 'feat_39', 'feat_40', 'feat_41', 'feat_42', 'feat_43', 'feat_44', 'feat_45', 'feat_46',\n",
    "    'feat_47', 'feat_48', 'feat_49', 'feat_50', 'feat_51', 'feat_52', 'feat_53', 'feat_54', 'feat_55',\n",
    "    'feat_56', 'feat_57', 'feat_58', 'feat_59', 'feat_60', 'feat_61', 'feat_62', 'feat_63', 'feat_64',\n",
    "    'feat_65', 'feat_66', 'feat_67', 'feat_68', 'feat_69', 'feat_70', 'feat_71', 'feat_72', 'feat_73',\n",
    "    'feat_74', 'feat_75', 'feat_76', 'feat_77', 'feat_78', 'feat_79', 'feat_80', 'feat_81', 'feat_82',\n",
    "    'feat_83', 'feat_84', 'feat_85', 'feat_86', 'feat_87', 'feat_88', 'feat_89', 'feat_90', 'feat_91',\n",
    "    'feat_92', 'feat_93'\n",
    "]\n",
    "otto_data = train_df.copy()\n",
    "uni_targets = sorted(otto_data['target'].unique())\n",
    "otto_target = ['target']\n",
    "for idx, value in enumerate(uni_targets):\n",
    "    otto_data['target_{}'.format(idx)] = (otto_data['target'] == value).map(int)\n",
    "    otto_target.append('target_{}'.format(idx))\n",
    "print(otto_target)\n",
    "\n",
    "X_train, X_test, y_train, y_test = train_test_split(\n",
    "    otto_data[features], otto_data['target'], test_size = 0.2, random_state=42)"
   ]
  },
  {
   "cell_type": "code",
   "execution_count": null,
   "metadata": {},
   "outputs": [],
   "source": [
    "%%time\n",
    "classifier = RandomForestClassifier(\n",
    "    n_estimators=30, \n",
    "    n_jobs=4,\n",
    "    random_state=42\n",
    ")\n",
    "classifier.fit(X_train, y_train)"
   ]
  },
  {
   "cell_type": "code",
   "execution_count": null,
   "metadata": {},
   "outputs": [],
   "source": [
    "classifier.score(X_test, y_test)"
   ]
  },
  {
   "cell_type": "code",
   "execution_count": null,
   "metadata": {},
   "outputs": [],
   "source": [
    "otto_features = features\n",
    "otto_model = classifier"
   ]
  },
  {
   "cell_type": "markdown",
   "metadata": {},
   "source": [
    "# [for internal usage] save for unit test and tutorial"
   ]
  },
  {
   "cell_type": "raw",
   "metadata": {},
   "source": [
    "import joblib\n",
    "import json"
   ]
  },
  {
   "cell_type": "raw",
   "metadata": {},
   "source": [
    "! mkdir ../pdpbox/datasets/otto"
   ]
  },
  {
   "cell_type": "raw",
   "metadata": {},
   "source": [
    "otto_data.to_csv('../pdpbox/datasets/otto/otto_data.csv', index=False)\n",
    "joblib.dump(otto_model, '../pdpbox/datasets/otto/otto_model.pkl')\n",
    "\n",
    "with open('../pdpbox/datasets/otto/otto_info.json', 'w') as fout:\n",
    "    json.dump({\n",
    "        'features': otto_features,\n",
    "        'target': otto_target\n",
    "    }, fout, indent=4)"
   ]
  },
  {
   "cell_type": "markdown",
   "metadata": {},
   "source": [
    "# or you can directory load the data and model"
   ]
  },
  {
   "cell_type": "code",
   "execution_count": null,
   "metadata": {},
   "outputs": [],
   "source": [
    "test_otto = get_example.otto()\n",
    "test_otto.keys()"
   ]
  },
  {
   "cell_type": "code",
   "execution_count": null,
   "metadata": {},
   "outputs": [],
   "source": [
    "otto_data = test_otto['data']\n",
    "otto_features = test_otto['features']\n",
    "otto_model = test_otto['rf_model']\n",
    "otto_target = test_otto['target']"
   ]
  },
  {
   "cell_type": "code",
   "execution_count": null,
   "metadata": {},
   "outputs": [],
   "source": [
    "otto_data.head()"
   ]
  },
  {
   "cell_type": "markdown",
   "metadata": {},
   "source": [
    "# 1. single numeric feature: 'feat_67'"
   ]
  },
  {
   "cell_type": "markdown",
   "metadata": {},
   "source": [
    "## 1.1 target distribution through feature 'feat_67'"
   ]
  },
  {
   "cell_type": "code",
   "execution_count": null,
   "metadata": {},
   "outputs": [],
   "source": [
    "target_67 = info_plots.TargetPlot(\n",
    "    df=otto_data,\n",
    "    feature=\"feat_67\",\n",
    "    feature_name=\"feat_67\",\n",
    "    target=otto_target[1:],\n",
    "    num_grid_points=10,\n",
    "    grid_type='percentile',\n",
    "    percentile_range=None,\n",
    "    grid_range=None,\n",
    "    cust_grid_points=None,\n",
    "    show_outliers=False,\n",
    "    endpoint=True,\n",
    ")"
   ]
  },
  {
   "cell_type": "code",
   "execution_count": null,
   "metadata": {},
   "outputs": [],
   "source": [
    "fig, axes, summary_df = target_67.plot(\n",
    "    which_classes=None,\n",
    "    show_percentile=True,\n",
    "    figsize=(1200, 400),\n",
    "    ncols=2,\n",
    "    plot_params={\"gaps\": {\"outer_y\": 0.05}},\n",
    "    engine='plotly',\n",
    "    template='plotly_white',\n",
    ")\n",
    "fig"
   ]
  },
  {
   "cell_type": "code",
   "execution_count": null,
   "metadata": {},
   "outputs": [],
   "source": [
    "fig, axes, summary_df = target_67.plot(\n",
    "    which_classes=[1, 2],\n",
    "    show_percentile=True,\n",
    "    figsize=(1200, 400),\n",
    "    ncols=2,\n",
    "    plot_params={\"gaps\": {\"outer_y\": 0.05, \"top\": 0.1}},\n",
    "    engine='plotly',\n",
    "    template='plotly_white',\n",
    ")\n",
    "fig"
   ]
  },
  {
   "cell_type": "code",
   "execution_count": null,
   "metadata": {},
   "outputs": [],
   "source": [
    "summary_df"
   ]
  },
  {
   "cell_type": "code",
   "execution_count": null,
   "metadata": {},
   "outputs": [],
   "source": [
    "fig, axes, summary_df = target_67.plot(\n",
    "    show_percentile=True,\n",
    "    figsize=(16, 6),\n",
    "    dpi=300,\n",
    "    ncols=2,\n",
    "    plot_params={\"gaps\": {\"outer_y\": 0.4}, \"title\": {\"subplot_title\": {\"fontsize\": 11}}},\n",
    "    engine='matplotlib',\n",
    ")"
   ]
  },
  {
   "cell_type": "markdown",
   "metadata": {},
   "source": [
    "## 1.2 check prediction distribution through feature 'feat_67'"
   ]
  },
  {
   "cell_type": "code",
   "execution_count": null,
   "metadata": {},
   "outputs": [],
   "source": [
    "predict_67 = info_plots.PredictPlot(\n",
    "    model=otto_model,\n",
    "    df=otto_data,\n",
    "    model_features=otto_features,\n",
    "    feature=\"feat_67\",\n",
    "    feature_name=\"feat_67\",\n",
    "    pred_func=None,\n",
    "    n_classes=None,\n",
    "    num_grid_points=10,\n",
    "    grid_type='percentile',\n",
    "    percentile_range=None,\n",
    "    grid_range=None,\n",
    "    cust_grid_points=None,\n",
    "    show_outliers=False,\n",
    "    endpoint=True,\n",
    "    predict_kwds={},\n",
    "    chunk_size=-1,\n",
    ")"
   ]
  },
  {
   "cell_type": "code",
   "execution_count": null,
   "metadata": {},
   "outputs": [],
   "source": [
    "fig, axes, summary_df = predict_67.plot(\n",
    "    show_percentile=True,\n",
    "    figsize=None,\n",
    "    ncols=2,\n",
    "    plot_params=None,\n",
    "    engine='plotly',\n",
    "    template='plotly_white',\n",
    ")\n",
    "fig"
   ]
  },
  {
   "cell_type": "code",
   "execution_count": null,
   "metadata": {},
   "outputs": [],
   "source": [
    "summary_df"
   ]
  },
  {
   "cell_type": "code",
   "execution_count": null,
   "metadata": {},
   "outputs": [],
   "source": [
    "fig, axes, summary_df = predict_67.plot(\n",
    "    which_classes=[1, 3, 5, 8],\n",
    "    show_percentile=True,\n",
    "    figsize=None,\n",
    "    dpi=300,\n",
    "    ncols=2,\n",
    "    plot_params={\"title\": {\"subplot_title\": {\"fontsize\": 10}}, \"gaps\": {\"outer_y\": 0.25}},\n",
    "    engine='matplotlib',\n",
    ")"
   ]
  },
  {
   "cell_type": "markdown",
   "metadata": {},
   "source": [
    "## 1.3 pdp for feature 'feat_67'"
   ]
  },
  {
   "cell_type": "code",
   "execution_count": null,
   "metadata": {},
   "outputs": [],
   "source": [
    "pdp_feat_67_rf = pdp.PDPIsolate(\n",
    "    model=otto_model,\n",
    "    df=otto_data,\n",
    "    model_features=otto_features,\n",
    "    feature=\"feat_67\",\n",
    "    feature_name=\"feat_67\",\n",
    "    chunk_size=10000,\n",
    ")"
   ]
  },
  {
   "cell_type": "code",
   "execution_count": null,
   "metadata": {},
   "outputs": [],
   "source": [
    "fig, axes = pdp_feat_67_rf.plot(\n",
    "    plot_lines=True,\n",
    "    frac_to_plot=100,\n",
    "    plot_pts_dist=True,\n",
    "    to_bins=False,\n",
    "    ncols=3,\n",
    "    figsize=(1200, 400),\n",
    "    show_percentile=True,\n",
    "    plot_params={\"pdp_hl\": True, \"gaps\": {\"outer_x\": 0.06, \"inner_y\": 0.02, \"outer_y\": 0.1}},\n",
    "    engine='plotly',\n",
    "    template='plotly_white',\n",
    ")\n",
    "fig"
   ]
  },
  {
   "cell_type": "code",
   "execution_count": null,
   "metadata": {},
   "outputs": [],
   "source": [
    "fig, axes = pdp_feat_67_rf.plot(\n",
    "    plot_lines=True,\n",
    "    frac_to_plot=100,\n",
    "    plot_pts_dist=True,\n",
    "    to_bins=True,\n",
    "    figsize=(16, 6.5),\n",
    "    show_percentile=True,\n",
    "    ncols=3,\n",
    "    plot_params={\"pdp_hl\": True, \"title\": {\"subplot_title\": {\"fontsize\": 10}}, \"gaps\": {\"outer_y\": 0.4}},\n",
    "    engine='matplotlib',\n",
    ")"
   ]
  },
  {
   "cell_type": "markdown",
   "metadata": {},
   "source": [
    "# 2. Interaction between two variables: feat_67 and feat_25"
   ]
  },
  {
   "cell_type": "markdown",
   "metadata": {},
   "source": [
    "## 2.1 target distribution through feature combination of 'feat_67' and 'feat_25'"
   ]
  },
  {
   "cell_type": "code",
   "execution_count": null,
   "metadata": {},
   "outputs": [],
   "source": [
    "target_67_25 = info_plots.InterectTargetPlot(\n",
    "    df=otto_data,\n",
    "    features=['feat_67', 'feat_25'],\n",
    "    feature_names=['feat_67', 'feat_25'],\n",
    "    target=otto_target[1:],\n",
    "    num_grid_points=10,\n",
    "    grid_types='percentile',\n",
    "    percentile_ranges=None,\n",
    "    grid_ranges=None,\n",
    "    cust_grid_points=None,\n",
    "    show_outliers=False,\n",
    "    endpoints=True,\n",
    ")"
   ]
  },
  {
   "cell_type": "code",
   "execution_count": null,
   "metadata": {},
   "outputs": [],
   "source": [
    "fig, axes, summary_df = target_67_25.plot(\n",
    "    which_classes=[0, 1, 2, 3],\n",
    "    show_percentile=False,\n",
    "    figsize=None,\n",
    "    ncols=2,\n",
    "    annotate=False,\n",
    "    plot_params={\"gaps\": {\"inner_y\": 0.06}},\n",
    "    engine='plotly',\n",
    "    template='plotly_white',\n",
    ")\n",
    "fig"
   ]
  },
  {
   "cell_type": "code",
   "execution_count": null,
   "metadata": {},
   "outputs": [],
   "source": [
    "fig, axes, summary_df = target_67_25.plot(\n",
    "    which_classes=[0, 1, 2, 3],\n",
    "    show_percentile=False,\n",
    "    figsize=None,\n",
    "    dpi=300,\n",
    "    ncols=2,\n",
    "    annotate=False,\n",
    "    plot_params={\"title\": {\"subplot_title\": {\"fontsize\": 10}}},\n",
    "    engine='matplotlib',\n",
    ")"
   ]
  },
  {
   "cell_type": "markdown",
   "metadata": {},
   "source": [
    "## 2.2 prediction distribution through feature combination of 'feat_67' and 'feat_25'"
   ]
  },
  {
   "cell_type": "code",
   "execution_count": null,
   "metadata": {},
   "outputs": [],
   "source": [
    "predict_67_25 = info_plots.InterectPredictPlot(\n",
    "    model=otto_model,\n",
    "    df=otto_data,\n",
    "    model_features=otto_features,\n",
    "    features=['feat_67', 'feat_25'], \n",
    "    feature_names=['feat_67', 'feat_25'],\n",
    "    pred_func=None,\n",
    "    n_classes=None,\n",
    "    num_grid_points=10,\n",
    "    grid_types='percentile',\n",
    "    percentile_ranges=None,\n",
    "    grid_ranges=None,\n",
    "    cust_grid_points=None,\n",
    "    show_outliers=False,\n",
    "    endpoints=True,\n",
    "    predict_kwds={},\n",
    "    chunk_size=-1,\n",
    ")"
   ]
  },
  {
   "cell_type": "code",
   "execution_count": null,
   "metadata": {},
   "outputs": [],
   "source": [
    "fig, axes, summary_df = predict_67_25.plot(\n",
    "    which_classes=[1, 3, 5, 6],\n",
    "    show_percentile=False,\n",
    "    figsize=None,\n",
    "    ncols=2,\n",
    "    annotate=False,\n",
    "    plot_params={\"gaps\": {\"inner_y\": 0.06}},\n",
    "    engine='plotly',\n",
    "    template='plotly_white',\n",
    ")\n",
    "fig"
   ]
  },
  {
   "cell_type": "code",
   "execution_count": null,
   "metadata": {},
   "outputs": [],
   "source": [
    "summary_df.head()"
   ]
  },
  {
   "cell_type": "code",
   "execution_count": null,
   "metadata": {},
   "outputs": [],
   "source": [
    "fig, axes, summary_df = predict_67_25.plot(\n",
    "    which_classes=[1, 3, 5, 6],\n",
    "    show_percentile=False,\n",
    "    figsize=None,\n",
    "    dpi=300,\n",
    "    ncols=2,\n",
    "    annotate=False,\n",
    "    plot_params=None,\n",
    "    engine='matplotlib',\n",
    ")"
   ]
  },
  {
   "cell_type": "markdown",
   "metadata": {},
   "source": [
    "## 2.3 pdp for feature combination of 'feat_67' and 'feat_25'"
   ]
  },
  {
   "cell_type": "code",
   "execution_count": null,
   "metadata": {},
   "outputs": [],
   "source": [
    "pdp_67_25 = pdp.PDPInteract(\n",
    "    model=otto_model,\n",
    "    df=otto_data,\n",
    "    model_features=otto_features,\n",
    "    features=['feat_67', 'feat_25'],\n",
    "    feature_names=['feat_67', 'feat_25'],\n",
    ")"
   ]
  },
  {
   "cell_type": "code",
   "execution_count": null,
   "metadata": {},
   "outputs": [],
   "source": [
    "fig, axes = pdp_67_25.plot(\n",
    "    plot_type=\"grid\",\n",
    "    to_bins=True,\n",
    "    plot_pdp=False,\n",
    "    show_percentile=True,\n",
    "    which_classes=[2, 4, 6, 8],\n",
    "    figsize=None,\n",
    "    dpi=300,\n",
    "    ncols=2,\n",
    "    plot_params={\"gaps\": {\"outer_y\": 0.2}},\n",
    "    engine=\"matplotlib\",\n",
    "    template=\"plotly_white\",\n",
    ")"
   ]
  },
  {
   "cell_type": "code",
   "execution_count": null,
   "metadata": {},
   "outputs": [],
   "source": [
    "fig, axes = pdp_67_25.plot(\n",
    "    plot_type=\"contour\",\n",
    "    to_bins=True,\n",
    "    plot_pdp=True,\n",
    "    show_percentile=False,\n",
    "    which_classes=[2, 4, 6, 8],\n",
    "    figsize=None,\n",
    "    dpi=300,\n",
    "    ncols=2,\n",
    "    plot_params=None,\n",
    "    engine=\"plotly\",\n",
    "    template=\"plotly_white\",\n",
    ")\n",
    "fig"
   ]
  }
 ],
 "metadata": {
  "anaconda-cloud": {},
  "kernelspec": {
   "display_name": "Python 3 (ipykernel)",
   "language": "python",
   "name": "python3"
  },
  "language_info": {
   "codemirror_mode": {
    "name": "ipython",
    "version": 3
   },
   "file_extension": ".py",
   "mimetype": "text/x-python",
   "name": "python",
   "nbconvert_exporter": "python",
   "pygments_lexer": "ipython3",
   "version": "3.9.13"
  }
 },
 "nbformat": 4,
 "nbformat_minor": 4
}

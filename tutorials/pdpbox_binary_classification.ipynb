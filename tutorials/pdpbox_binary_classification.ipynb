{
 "cells": [
  {
   "cell_type": "markdown",
   "metadata": {},
   "source": [
    "# Test PDPbox with binary classification problem\n",
    "## Kaggle Titanic with XGBoost\n",
    "This demo is based on **Titanic: Machine Learning from Disaster**  \n",
    "https://www.kaggle.com/c/titanic/details/tutorials"
   ]
  },
  {
   "cell_type": "code",
   "execution_count": null,
   "metadata": {},
   "outputs": [],
   "source": [
    "%load_ext autoreload\n",
    "%autoreload 2\n",
    "\n",
    "import sys\n",
    "sys.path.insert(0, \"/Users/sosuneko/Desktop/develop/PDPbox\")"
   ]
  },
  {
   "cell_type": "code",
   "execution_count": null,
   "metadata": {},
   "outputs": [],
   "source": [
    "import pandas as pd\n",
    "from pdpbox import pdp, get_example, info_plots"
   ]
  },
  {
   "cell_type": "code",
   "execution_count": null,
   "metadata": {},
   "outputs": [],
   "source": [
    "import plotly.express as px\n",
    "import matplotlib.pyplot as plt\n",
    "import numpy as np"
   ]
  },
  {
   "cell_type": "code",
   "execution_count": null,
   "metadata": {},
   "outputs": [],
   "source": [
    "import warnings\n",
    "warnings.filterwarnings(\"ignore\")"
   ]
  },
  {
   "cell_type": "markdown",
   "metadata": {},
   "source": [
    "# versions\n",
    "- `xgboost`: 1.3.3\n",
    "- `matplotlib`: 3.1.1\n",
    "- `sklearn`: 0.23.1"
   ]
  },
  {
   "cell_type": "code",
   "execution_count": null,
   "metadata": {},
   "outputs": [],
   "source": [
    "import xgboost\n",
    "from xgboost import XGBClassifier\n",
    "print(xgboost.__version__)"
   ]
  },
  {
   "cell_type": "code",
   "execution_count": null,
   "metadata": {},
   "outputs": [],
   "source": [
    "import matplotlib\n",
    "print(matplotlib.__version__)"
   ]
  },
  {
   "cell_type": "code",
   "execution_count": null,
   "metadata": {},
   "outputs": [],
   "source": [
    "import sklearn\n",
    "print(sklearn.__version__)\n",
    "\n",
    "from sklearn.model_selection import train_test_split\n",
    "from sklearn.preprocessing import LabelEncoder"
   ]
  },
  {
   "cell_type": "markdown",
   "metadata": {},
   "source": [
    "# train a simple xgboost classifier\n",
    "We assume there is a `titanic` data folder under the same directory. The dataset is directly downloaded from kaggle with command `kaggle competitions download -c titanic`. Reference: https://github.com/Kaggle/kaggle-api"
   ]
  },
  {
   "cell_type": "code",
   "execution_count": null,
   "metadata": {},
   "outputs": [],
   "source": [
    "! kaggle competitions download -c titanic"
   ]
  },
  {
   "cell_type": "code",
   "execution_count": null,
   "metadata": {},
   "outputs": [],
   "source": [
    "! ls titanic"
   ]
  },
  {
   "cell_type": "code",
   "execution_count": null,
   "metadata": {},
   "outputs": [],
   "source": [
    "train_df = pd.read_csv('titanic/train.csv')\n",
    "print(train_df.shape)\n",
    "display(train_df.head())"
   ]
  },
  {
   "cell_type": "markdown",
   "metadata": {},
   "source": [
    "## simple feature engineering"
   ]
  },
  {
   "cell_type": "code",
   "execution_count": null,
   "metadata": {},
   "outputs": [],
   "source": [
    "titanic_data = train_df.copy()\n",
    "titanic_data = titanic_data.drop('Cabin', axis=1)\n",
    "titanic_data['Age'] = titanic_data['Age'].fillna(titanic_data['Age'].median())\n",
    "titanic_data['Embarked']= titanic_data['Embarked'].fillna(titanic_data['Embarked'].value_counts().index[0])\n",
    "LE = LabelEncoder()\n",
    "titanic_data['Sex'] = LE.fit_transform(titanic_data['Sex'])\n",
    "for v in ['C', 'S', 'Q']:\n",
    "    titanic_data['Embarked_{}'.format(v)] = (titanic_data['Embarked'] == v).map(int)"
   ]
  },
  {
   "cell_type": "code",
   "execution_count": null,
   "metadata": {},
   "outputs": [],
   "source": [
    "features= ['Pclass', 'Sex', 'Age', 'SibSp', 'Parch', 'Fare', 'Embarked_C', 'Embarked_S', 'Embarked_Q']\n",
    "target = ['Survived']\n",
    "X_train, X_test, y_train, y_test = train_test_split(\n",
    "    titanic_data[features], titanic_data[target], test_size = 0.2, random_state=42)"
   ]
  },
  {
   "cell_type": "markdown",
   "metadata": {},
   "source": [
    "## model training"
   ]
  },
  {
   "cell_type": "code",
   "execution_count": null,
   "metadata": {},
   "outputs": [],
   "source": [
    "%%time\n",
    "classifier = XGBClassifier(\n",
    "    max_depth=12,\n",
    "    subsample=0.33,\n",
    "    objective='binary:logistic',\n",
    "    n_estimators=100,\n",
    "    learning_rate = 0.01)\n",
    "eval_set = [(X_train,y_train), (X_test,y_test)]\n",
    "\n",
    "classifier.fit(\n",
    "    X_train, y_train.values.ravel(), \n",
    "    early_stopping_rounds=12, \n",
    "    eval_metric=[\"error\", \"logloss\"],\n",
    "    eval_set=eval_set, \n",
    "    verbose=True\n",
    ")\n",
    "classifier.score(X_test,y_test)"
   ]
  },
  {
   "cell_type": "code",
   "execution_count": null,
   "metadata": {},
   "outputs": [],
   "source": [
    "titanic_features = features\n",
    "titanic_model = classifier\n",
    "titanic_target = 'Survived'"
   ]
  },
  {
   "cell_type": "markdown",
   "metadata": {},
   "source": [
    "## get model prediction"
   ]
  },
  {
   "cell_type": "markdown",
   "metadata": {},
   "source": [
    "# [for internal usage] save for unit test and tutorial"
   ]
  },
  {
   "cell_type": "code",
   "execution_count": null,
   "metadata": {},
   "outputs": [],
   "source": [
    "import joblib\n",
    "import json"
   ]
  },
  {
   "cell_type": "raw",
   "metadata": {},
   "source": [
    "! mkdir ../pdpbox/datasets/titanic"
   ]
  },
  {
   "cell_type": "code",
   "execution_count": null,
   "metadata": {},
   "outputs": [],
   "source": [
    "titanic_data.to_csv('../pdpbox/examples/titanic/titanic_data.csv', index=False)\n",
    "joblib.dump(titanic_model, '../pdpbox/examples/titanic/titanic_model.pkl')\n",
    "\n",
    "with open('../pdpbox/examples/titanic/titanic_info.json', 'w') as fout:\n",
    "    json.dump({\n",
    "        'features': titanic_features,\n",
    "        'target': titanic_target\n",
    "    }, fout, indent=4)"
   ]
  },
  {
   "cell_type": "markdown",
   "metadata": {},
   "source": [
    "# or you can directory load the data and model"
   ]
  },
  {
   "cell_type": "code",
   "execution_count": null,
   "metadata": {},
   "outputs": [],
   "source": [
    "test_titanic = get_example.titanic()\n",
    "print(test_titanic.keys())"
   ]
  },
  {
   "cell_type": "code",
   "execution_count": null,
   "metadata": {},
   "outputs": [],
   "source": [
    "titanic_data = test_titanic['data']\n",
    "titanic_features = test_titanic['features']\n",
    "titanic_model = test_titanic['xgb_model']\n",
    "titanic_target = test_titanic['target']"
   ]
  },
  {
   "cell_type": "code",
   "execution_count": null,
   "metadata": {},
   "outputs": [],
   "source": [
    "titanic_data.groupby([\"Sex\"], as_index=False).count()"
   ]
  },
  {
   "cell_type": "markdown",
   "metadata": {},
   "source": [
    "# 1. Binary feature: Sex"
   ]
  },
  {
   "cell_type": "markdown",
   "metadata": {},
   "source": [
    "## 1.1 target distribution through feature 'Sex'"
   ]
  },
  {
   "cell_type": "code",
   "execution_count": null,
   "metadata": {},
   "outputs": [],
   "source": [
    "target_gender = info_plots.TargetPlot(\n",
    "    df=titanic_data,\n",
    "    feature=\"Sex\",\n",
    "    feature_name=\"gender\",\n",
    "    target=titanic_target,\n",
    ")"
   ]
  },
  {
   "cell_type": "code",
   "execution_count": null,
   "metadata": {},
   "outputs": [],
   "source": [
    "fig, axes, summary_df = target_gender.plot(\n",
    "    figsize=None,\n",
    "    ncols=2,\n",
    "    plot_params=None,\n",
    "    engine='plotly',\n",
    "    template='plotly_white',\n",
    ")\n",
    "fig.update_layout(xaxis=dict(ticktext=[\"Female\", \"Male\"]))"
   ]
  },
  {
   "cell_type": "code",
   "execution_count": null,
   "metadata": {},
   "outputs": [],
   "source": [
    "summary_df"
   ]
  },
  {
   "cell_type": "code",
   "execution_count": null,
   "metadata": {},
   "outputs": [],
   "source": [
    "fig, axes, summary_df = target_gender.plot(\n",
    "    figsize=None,\n",
    "    dpi=300,\n",
    "    ncols=2,\n",
    "    plot_params=None,\n",
    "    engine='matplotlib',\n",
    ")\n",
    "_ = axes['bar_axes'][0].set_xticklabels(['Female', 'Male'])"
   ]
  },
  {
   "cell_type": "markdown",
   "metadata": {},
   "source": [
    "## 1.2 check prediction distribution through feature 'Sex'"
   ]
  },
  {
   "cell_type": "code",
   "execution_count": null,
   "metadata": {},
   "outputs": [],
   "source": [
    "predict_gender = info_plots.PredictPlot(\n",
    "    model=titanic_model,\n",
    "    df=titanic_data,\n",
    "    model_features=titanic_features,\n",
    "    feature=\"Sex\",\n",
    "    feature_name=\"gender\",\n",
    "    pred_func=None,\n",
    "    n_classes=None,\n",
    "    predict_kwds={},\n",
    "    chunk_size=-1,\n",
    ")"
   ]
  },
  {
   "cell_type": "code",
   "execution_count": null,
   "metadata": {},
   "outputs": [],
   "source": [
    "fig, axes, summary_df = predict_gender.plot(\n",
    "    figsize=None,\n",
    "    ncols=2,\n",
    "    plot_params=None,\n",
    "    engine='plotly',\n",
    "    template='plotly_white',\n",
    ")\n",
    "fig.update_xaxes(ticktext=[\"Female\", \"Male\"])"
   ]
  },
  {
   "cell_type": "code",
   "execution_count": null,
   "metadata": {},
   "outputs": [],
   "source": [
    "summary_df"
   ]
  },
  {
   "cell_type": "code",
   "execution_count": null,
   "metadata": {},
   "outputs": [],
   "source": [
    "fig, axes, summary_df = predict_gender.plot(\n",
    "    figsize=None,\n",
    "    dpi=300,\n",
    "    ncols=2,\n",
    "    plot_params=None,\n",
    "    engine='matplotlib',\n",
    ")\n",
    "_ = axes['bar_axes'][0].set_xticklabels(['Female', 'Male'])"
   ]
  },
  {
   "cell_type": "markdown",
   "metadata": {},
   "source": [
    "### pass in `pred_func`"
   ]
  },
  {
   "cell_type": "code",
   "execution_count": null,
   "metadata": {},
   "outputs": [],
   "source": [
    "def titanic_predict_proba(model, X, predict_kwds={}):\n",
    "    return model.predict_proba(X, **predict_kwds) + 0.05\n",
    "\n",
    "predict_gender = info_plots.PredictPlot(\n",
    "    model=titanic_model,\n",
    "    df=titanic_data,\n",
    "    model_features=titanic_features,\n",
    "    feature=\"Sex\",\n",
    "    feature_name=\"gender\",\n",
    "    pred_func=titanic_predict_proba,\n",
    "    n_classes=None,\n",
    "    predict_kwds={},\n",
    "    chunk_size=-1,\n",
    ")"
   ]
  },
  {
   "cell_type": "code",
   "execution_count": null,
   "metadata": {},
   "outputs": [],
   "source": [
    "fig, axes, summary_df = predict_gender.plot(\n",
    "    figsize=None,\n",
    "    ncols=2,\n",
    "    plot_params=None,\n",
    "    engine='plotly',\n",
    "    template='plotly_white',\n",
    ")\n",
    "fig"
   ]
  },
  {
   "cell_type": "markdown",
   "metadata": {},
   "source": [
    "## 1.3 pdp for feature 'Sex'"
   ]
  },
  {
   "cell_type": "code",
   "execution_count": null,
   "metadata": {},
   "outputs": [],
   "source": [
    "pdp_sex = pdp.PDPIsolate(\n",
    "    model=titanic_model,\n",
    "    df=titanic_data,\n",
    "    model_features=titanic_features,\n",
    "    feature=\"Sex\",\n",
    "    feature_name=\"gender\",\n",
    ")"
   ]
  },
  {
   "cell_type": "code",
   "execution_count": null,
   "metadata": {},
   "outputs": [],
   "source": [
    "fig, axes = pdp_sex.plot(\n",
    "    center=False,\n",
    "    plot_lines=True,\n",
    "    frac_to_plot=100,\n",
    "    cluster=False,\n",
    "    n_cluster_centers=None,\n",
    "    cluster_method='accurate',\n",
    "    plot_pts_dist=True,\n",
    "    to_bins=False,\n",
    "    show_percentile=False,\n",
    "    which_classes=None,\n",
    "    figsize=None,\n",
    "    dpi=300,\n",
    "    ncols=2,\n",
    "    plot_params={\"pdp_hl\": True},\n",
    "    engine='plotly',\n",
    "    template='plotly_white',\n",
    ")\n",
    "fig.update_xaxes(ticktext=[\"Female\", \"Male\"], row=2, col=1)"
   ]
  },
  {
   "cell_type": "code",
   "execution_count": null,
   "metadata": {},
   "outputs": [],
   "source": [
    "fig, axes = pdp_sex.plot(\n",
    "    center=True,\n",
    "    plot_lines=True,\n",
    "    frac_to_plot=100,\n",
    "    cluster=False,\n",
    "    n_cluster_centers=None,\n",
    "    cluster_method='accurate',\n",
    "    plot_pts_dist=True,\n",
    "    to_bins=False,\n",
    "    show_percentile=False,\n",
    "    which_classes=None,\n",
    "    figsize=None,\n",
    "    dpi=300,\n",
    "    ncols=2,\n",
    "    plot_params={\"pdp_hl\": True},\n",
    "    engine='matplotlib',\n",
    "    template='plotly_white',\n",
    ")\n",
    "_ = axes['dist_axes'][0].set_xticklabels(['Female', 'Male'])"
   ]
  },
  {
   "cell_type": "markdown",
   "metadata": {},
   "source": [
    "# 2. one-hot encoding feature: embarked\n",
    "for one-hot encoding feature, should provide a list containing all the related columns"
   ]
  },
  {
   "cell_type": "markdown",
   "metadata": {},
   "source": [
    "## 2.1 target distribution through feature 'embarked'"
   ]
  },
  {
   "cell_type": "code",
   "execution_count": null,
   "metadata": {},
   "outputs": [],
   "source": [
    "target_embarked = info_plots.TargetPlot(\n",
    "    df=titanic_data,\n",
    "    feature=['Embarked_C', 'Embarked_S', 'Embarked_Q'],\n",
    "    feature_name=\"embarked\",\n",
    "    target=titanic_target,\n",
    ")"
   ]
  },
  {
   "cell_type": "code",
   "execution_count": null,
   "metadata": {},
   "outputs": [],
   "source": [
    "fig, axes, summary_df = target_embarked.plot(\n",
    "    figsize=None,\n",
    "    ncols=2,\n",
    "    plot_params=None,\n",
    "    engine='plotly',\n",
    "    template='plotly_white',\n",
    ")\n",
    "fig"
   ]
  },
  {
   "cell_type": "code",
   "execution_count": null,
   "metadata": {},
   "outputs": [],
   "source": [
    "summary_df"
   ]
  },
  {
   "cell_type": "code",
   "execution_count": null,
   "metadata": {},
   "outputs": [],
   "source": [
    "fig, axes, summary_df = target_embarked.plot(\n",
    "    figsize=None,\n",
    "    dpi=300,\n",
    "    ncols=2,\n",
    "    plot_params=None,\n",
    "    engine='matplotlib',\n",
    ")"
   ]
  },
  {
   "cell_type": "markdown",
   "metadata": {},
   "source": [
    "## 2.2 check prediction distribution through feature 'embarked'"
   ]
  },
  {
   "cell_type": "code",
   "execution_count": null,
   "metadata": {},
   "outputs": [],
   "source": [
    "predict_embarked = info_plots.PredictPlot(\n",
    "    model=titanic_model,\n",
    "    df=titanic_data,\n",
    "    model_features=titanic_features,\n",
    "    feature=['Embarked_C', 'Embarked_S', 'Embarked_Q'],\n",
    "    feature_name=\"embarked\",\n",
    "    pred_func=None,\n",
    "    n_classes=None,\n",
    "    predict_kwds={},\n",
    "    chunk_size=-1,\n",
    ")"
   ]
  },
  {
   "cell_type": "code",
   "execution_count": null,
   "metadata": {},
   "outputs": [],
   "source": [
    "fig, axes, summary_df = predict_embarked.plot(\n",
    "    figsize=None,\n",
    "    ncols=2,\n",
    "    plot_params=None,\n",
    "    engine='plotly',\n",
    "    template='plotly_white',\n",
    ")\n",
    "fig"
   ]
  },
  {
   "cell_type": "code",
   "execution_count": null,
   "metadata": {},
   "outputs": [],
   "source": [
    "summary_df"
   ]
  },
  {
   "cell_type": "code",
   "execution_count": null,
   "metadata": {},
   "outputs": [],
   "source": [
    "fig, axes, summary_df = predict_embarked.plot(\n",
    "    figsize=None,\n",
    "    dpi=300,\n",
    "    ncols=2,\n",
    "    plot_params=None,\n",
    "    engine='matplotlib',\n",
    ")"
   ]
  },
  {
   "cell_type": "markdown",
   "metadata": {},
   "source": [
    "## 2.3 pdp for feature 'embarked'"
   ]
  },
  {
   "cell_type": "code",
   "execution_count": null,
   "metadata": {},
   "outputs": [],
   "source": [
    "pdp_embark = pdp.PDPIsolate(\n",
    "    model=titanic_model,\n",
    "    df=titanic_data,\n",
    "    model_features=titanic_features,\n",
    "    feature=['Embarked_C', 'Embarked_S', 'Embarked_Q'],\n",
    "    feature_name=\"embarked\",\n",
    ")"
   ]
  },
  {
   "cell_type": "code",
   "execution_count": null,
   "metadata": {},
   "outputs": [],
   "source": [
    "fig, axes = pdp_embark.plot(\n",
    "    center=True,\n",
    "    plot_lines=True,\n",
    "    frac_to_plot=1,\n",
    "    cluster=True,\n",
    "    n_cluster_centers=50,\n",
    "    cluster_method='accurate',\n",
    "    plot_pts_dist=True,\n",
    "    to_bins=False,\n",
    "    show_percentile=False,\n",
    "    which_classes=None,\n",
    "    figsize=None,\n",
    "    dpi=300,\n",
    "    ncols=2,\n",
    "    plot_params={\"pdp_hl\": True, \"line\": {\"hl_color\": \"#f46d43\"}},\n",
    "    engine='plotly',\n",
    "    template='plotly_white',\n",
    ")\n",
    "fig"
   ]
  },
  {
   "cell_type": "code",
   "execution_count": null,
   "metadata": {},
   "outputs": [],
   "source": [
    "fig, axes = pdp_embark.plot(\n",
    "    center=False,\n",
    "    plot_lines=True,\n",
    "    frac_to_plot=1,\n",
    "    cluster=True,\n",
    "    n_cluster_centers=50,\n",
    "    cluster_method='accurate',\n",
    "    plot_pts_dist=True,\n",
    "    to_bins=False,\n",
    "    show_percentile=False,\n",
    "    which_classes=None,\n",
    "    figsize=None,\n",
    "    dpi=300,\n",
    "    ncols=2,\n",
    "    plot_params={\"pdp_hl\": True, \"line\": {\"hl_color\": \"#f46d43\"}},\n",
    "    engine='matplotlib',\n",
    "    template='plotly_white',\n",
    ")"
   ]
  },
  {
   "cell_type": "markdown",
   "metadata": {},
   "source": [
    "### pass in `data_transformer`\n",
    "Since some features are highly correlated."
   ]
  },
  {
   "cell_type": "code",
   "execution_count": null,
   "metadata": {},
   "outputs": [],
   "source": [
    "for col in ['Embarked_C', 'Embarked_S', 'Embarked_Q']:\n",
    "    print(col, titanic_data[titanic_data[col] == 1][\"Fare\"].mean())"
   ]
  },
  {
   "cell_type": "code",
   "execution_count": null,
   "metadata": {},
   "outputs": [],
   "source": [
    "def data_trans(df):\n",
    "    embarkeds = ['Embarked_C', 'Embarked_S', 'Embarked_Q']\n",
    "    fares = [60, 28, 13]\n",
    "    df[\"Fare\"] = df[embarkeds].apply(lambda x: fares[np.argmax(x)], axis=1)\n",
    "    return df\n",
    "\n",
    "pdp_embark = pdp.PDPIsolate(\n",
    "    model=titanic_model,\n",
    "    df=titanic_data,\n",
    "    model_features=titanic_features,\n",
    "    feature=['Embarked_C', 'Embarked_S', 'Embarked_Q'],\n",
    "    feature_name=\"embarked\",\n",
    "    data_transformer=data_trans,\n",
    ")"
   ]
  },
  {
   "cell_type": "code",
   "execution_count": null,
   "metadata": {},
   "outputs": [],
   "source": [
    "fig, axes = pdp_embark.plot(\n",
    "    center=True,\n",
    "    plot_lines=True,\n",
    "    frac_to_plot=1,\n",
    "    cluster=True,\n",
    "    n_cluster_centers=50,\n",
    "    cluster_method='accurate',\n",
    "    plot_pts_dist=True,\n",
    "    to_bins=False,\n",
    "    show_percentile=False,\n",
    "    which_classes=None,\n",
    "    figsize=None,\n",
    "    dpi=300,\n",
    "    ncols=2,\n",
    "    plot_params={\"pdp_hl\": True, \"line\": {\"hl_color\": \"#f46d43\"}},\n",
    "    engine='plotly',\n",
    "    template='plotly_white',\n",
    ")\n",
    "fig"
   ]
  },
  {
   "cell_type": "markdown",
   "metadata": {},
   "source": [
    "# 3. numeric feature: Fare"
   ]
  },
  {
   "cell_type": "markdown",
   "metadata": {},
   "source": [
    "## 3.1 target distribution through feature 'Fare'"
   ]
  },
  {
   "cell_type": "code",
   "execution_count": null,
   "metadata": {},
   "outputs": [],
   "source": [
    "target_fare = info_plots.TargetPlot(\n",
    "    df=titanic_data,\n",
    "    feature=\"Fare\",\n",
    "    feature_name=\"fare\",\n",
    "    target=titanic_target,\n",
    "    num_grid_points=10,\n",
    "    grid_type='percentile',\n",
    "    percentile_range=None,\n",
    "    grid_range=None,\n",
    "    cust_grid_points=None,\n",
    "    show_outliers=False,\n",
    "    endpoint=True,\n",
    ")"
   ]
  },
  {
   "cell_type": "code",
   "execution_count": null,
   "metadata": {},
   "outputs": [],
   "source": [
    "fig, axes, summary_df = target_fare.plot(\n",
    "    show_percentile=True,\n",
    "    figsize=None,\n",
    "    dpi=300,\n",
    "    ncols=2,\n",
    "    plot_params=None,\n",
    "    engine='plotly',\n",
    "    template='plotly_white',\n",
    ")\n",
    "fig"
   ]
  },
  {
   "cell_type": "code",
   "execution_count": null,
   "metadata": {},
   "outputs": [],
   "source": [
    "summary_df"
   ]
  },
  {
   "cell_type": "code",
   "execution_count": null,
   "metadata": {},
   "outputs": [],
   "source": [
    "fig, axes, summary_df = target_fare.plot(\n",
    "    show_percentile=True,\n",
    "    figsize=None,\n",
    "    dpi=300,\n",
    "    ncols=2,\n",
    "    plot_params=None,\n",
    "    engine=\"matplotlib\",\n",
    ")"
   ]
  },
  {
   "cell_type": "markdown",
   "metadata": {},
   "source": [
    "## 3.2 check prediction distribution through feature 'Fare'"
   ]
  },
  {
   "cell_type": "code",
   "execution_count": null,
   "metadata": {},
   "outputs": [],
   "source": [
    "predict_fare = info_plots.PredictPlot(\n",
    "    model=titanic_model,\n",
    "    model_features=titanic_features,\n",
    "    df=titanic_data,\n",
    "    feature=\"Fare\",\n",
    "    feature_name=\"fare\",\n",
    "    pred_func=None,\n",
    "    n_classes=None,\n",
    "    num_grid_points=10,\n",
    "    grid_type='percentile',\n",
    "    percentile_range=None,\n",
    "    grid_range=None,\n",
    "    cust_grid_points=None,\n",
    "    show_outliers=False,\n",
    "    endpoint=True,\n",
    "    predict_kwds={},\n",
    "    chunk_size=-1,\n",
    ")"
   ]
  },
  {
   "cell_type": "code",
   "execution_count": null,
   "metadata": {},
   "outputs": [],
   "source": [
    "fig, axes, summary_df = predict_fare.plot(\n",
    "    show_percentile=True,\n",
    "    figsize=None,\n",
    "    ncols=2,\n",
    "    plot_params=None,\n",
    "    engine='plotly',\n",
    "    template='plotly_white',\n",
    ")\n",
    "fig"
   ]
  },
  {
   "cell_type": "code",
   "execution_count": null,
   "metadata": {},
   "outputs": [],
   "source": [
    "summary_df"
   ]
  },
  {
   "cell_type": "code",
   "execution_count": null,
   "metadata": {},
   "outputs": [],
   "source": [
    "fig, axes, summary_df = predict_fare.plot(\n",
    "    show_percentile=True,\n",
    "    figsize=None,\n",
    "    dpi=300,\n",
    "    ncols=2,\n",
    "    plot_params=None,\n",
    "    engine='matplotlib',\n",
    ")"
   ]
  },
  {
   "cell_type": "markdown",
   "metadata": {},
   "source": [
    "## 3.3 pdp for feature 'Fare'"
   ]
  },
  {
   "cell_type": "code",
   "execution_count": null,
   "metadata": {},
   "outputs": [],
   "source": [
    "pdp_fare = pdp.PDPIsolate(\n",
    "    model=titanic_model,\n",
    "    df=titanic_data,\n",
    "    model_features=titanic_features,\n",
    "    feature=\"Fare\",\n",
    "    feature_name=\"fare\",\n",
    "    pred_func=None,\n",
    "    n_classes=None,\n",
    "    memory_limit=0.5,\n",
    "    chunk_size=-1,\n",
    "    n_jobs=1,\n",
    "    predict_kwds={},\n",
    "    data_transformer=None,\n",
    "    cust_grid_points=None,\n",
    "    grid_type='percentile',\n",
    "    num_grid_points=10,\n",
    "    percentile_range=None,\n",
    "    grid_range=None,\n",
    ")"
   ]
  },
  {
   "cell_type": "code",
   "execution_count": null,
   "metadata": {},
   "outputs": [],
   "source": [
    "fig, axes = pdp_fare.plot(\n",
    "    center=True,\n",
    "    plot_lines=True,\n",
    "    frac_to_plot=100,\n",
    "    cluster=False,\n",
    "    n_cluster_centers=None,\n",
    "    cluster_method='accurate',\n",
    "    plot_pts_dist=True,\n",
    "    to_bins=True,\n",
    "    show_percentile=True,\n",
    "    which_classes=None,\n",
    "    figsize=None,\n",
    "    dpi=300,\n",
    "    ncols=2,\n",
    "    plot_params={\"pdp_hl\": True},\n",
    "    engine='plotly',\n",
    "    template='plotly_white',\n",
    ")\n",
    "fig"
   ]
  },
  {
   "cell_type": "code",
   "execution_count": null,
   "metadata": {},
   "outputs": [],
   "source": [
    "fig, axes = pdp_fare.plot(\n",
    "    center=True,\n",
    "    plot_lines=True,\n",
    "    frac_to_plot=100,\n",
    "    cluster=False,\n",
    "    n_cluster_centers=None,\n",
    "    cluster_method='accurate',\n",
    "    plot_pts_dist=True,\n",
    "    to_bins=False,\n",
    "    show_percentile=True,\n",
    "    which_classes=None,\n",
    "    figsize=None,\n",
    "    dpi=300,\n",
    "    ncols=2,\n",
    "    plot_params=None,\n",
    "    engine='matplotlib',\n",
    "    template='plotly_white',\n",
    ")"
   ]
  },
  {
   "cell_type": "markdown",
   "metadata": {},
   "source": [
    "# 4. Interaction between two variables"
   ]
  },
  {
   "cell_type": "markdown",
   "metadata": {},
   "source": [
    "## 4.1 'Age' and 'Fare'"
   ]
  },
  {
   "cell_type": "markdown",
   "metadata": {},
   "source": [
    "### 4.1.1 InterectTargetPlot "
   ]
  },
  {
   "cell_type": "code",
   "execution_count": null,
   "metadata": {},
   "outputs": [],
   "source": [
    "target_age_fare = info_plots.InterectTargetPlot(\n",
    "    df=titanic_data,\n",
    "    features=[\"Age\", \"Fare\"],\n",
    "    feature_names=[\"Age\", \"Fare\"],\n",
    "    target=titanic_target,\n",
    "    num_grid_points=10,\n",
    "    grid_types=\"percentile\",\n",
    "    percentile_ranges=None,\n",
    "    grid_ranges=None,\n",
    "    cust_grid_points=None,\n",
    "    show_outliers=False,\n",
    "    endpoints=True,\n",
    ")"
   ]
  },
  {
   "cell_type": "code",
   "execution_count": null,
   "metadata": {},
   "outputs": [],
   "source": [
    "fig, axes, summary_df = target_age_fare.plot(\n",
    "    show_percentile=True,\n",
    "    figsize=(1200, 700),\n",
    "    annotate=True,\n",
    "    engine='plotly',\n",
    "    template='plotly_white',\n",
    ")\n",
    "fig"
   ]
  },
  {
   "cell_type": "code",
   "execution_count": null,
   "metadata": {},
   "outputs": [],
   "source": [
    "summary_df.head()"
   ]
  },
  {
   "cell_type": "code",
   "execution_count": null,
   "metadata": {},
   "outputs": [],
   "source": [
    "fig, axes, summary_df = target_age_fare.plot(\n",
    "    show_percentile=True,\n",
    "    figsize=(16, 10),\n",
    "    dpi=300,\n",
    "    annotate=True,\n",
    "    plot_params=None,\n",
    "    engine='matplotlib',\n",
    ")"
   ]
  },
  {
   "cell_type": "markdown",
   "metadata": {},
   "source": [
    "### 4.1.2 InterectPredictPlot"
   ]
  },
  {
   "cell_type": "code",
   "execution_count": null,
   "metadata": {},
   "outputs": [],
   "source": [
    "predict_age_fare = info_plots.InterectPredictPlot(\n",
    "    model=titanic_model,\n",
    "    df=titanic_data,\n",
    "    model_features=titanic_features,\n",
    "    features=[\"Age\", \"Fare\"],\n",
    "    feature_names=[\"Age\", \"Fare\"],\n",
    "    pred_func=None,\n",
    "    n_classes=None,\n",
    "    num_grid_points=10,\n",
    "    grid_types='percentile',\n",
    "    percentile_ranges=None,\n",
    "    grid_ranges=None,\n",
    "    cust_grid_points=None,\n",
    "    show_outliers=False,\n",
    "    endpoints=True,\n",
    "    predict_kwds={},\n",
    "    chunk_size=-1,\n",
    ")"
   ]
  },
  {
   "cell_type": "code",
   "execution_count": null,
   "metadata": {},
   "outputs": [],
   "source": [
    "fig, axes, summary_df = predict_age_fare.plot(\n",
    "    show_percentile=True,\n",
    "    figsize=(1200, 800),\n",
    "    ncols=2,\n",
    "    annotate=True,\n",
    "    plot_params={\"subplot_ratio\": {\"y\": [10, 1]}},\n",
    "    engine='plotly',\n",
    "    template='plotly_white',\n",
    ")\n",
    "fig"
   ]
  },
  {
   "cell_type": "code",
   "execution_count": null,
   "metadata": {},
   "outputs": [],
   "source": [
    "summary_df.head()"
   ]
  },
  {
   "cell_type": "code",
   "execution_count": null,
   "metadata": {},
   "outputs": [],
   "source": [
    "fig, axes, summary_df = predict_age_fare.plot(\n",
    "    show_percentile=True,\n",
    "    figsize=(16, 10),\n",
    "    dpi=300,\n",
    "    ncols=2,\n",
    "    annotate=True,\n",
    "    plot_params=None,\n",
    "    engine='matplotlib',\n",
    ")"
   ]
  },
  {
   "cell_type": "markdown",
   "metadata": {},
   "source": [
    "### 4.1.3 PDPInteract"
   ]
  },
  {
   "cell_type": "code",
   "execution_count": null,
   "metadata": {},
   "outputs": [],
   "source": [
    "pdp_age_fare = pdp.PDPInteract(\n",
    "    model=titanic_model,\n",
    "    df=titanic_data,\n",
    "    model_features=titanic_features,\n",
    "    features=[\"Age\", \"Fare\"],\n",
    "    feature_names=[\"age\", \"fare\"],\n",
    "    pred_func=None,\n",
    "    n_classes=None,\n",
    "    memory_limit=0.5,\n",
    "    chunk_size=-1,\n",
    "    n_jobs=1,\n",
    "    predict_kwds={},\n",
    "    data_transformer=None,\n",
    "    num_grid_points=10,\n",
    "    grid_types='percentile',\n",
    "    percentile_ranges=None,\n",
    "    grid_ranges=None,\n",
    "    cust_grid_points=None,\n",
    ")"
   ]
  },
  {
   "cell_type": "code",
   "execution_count": null,
   "metadata": {},
   "outputs": [],
   "source": [
    "fig, axes = pdp_age_fare.plot(\n",
    "    plot_type=\"contour\",\n",
    "    plot_pdp=True,\n",
    "    to_bins=True,\n",
    "    show_percentile=True,\n",
    "    which_classes=None,\n",
    "    figsize=None,\n",
    "    dpi=300,\n",
    "    ncols=2,\n",
    "    plot_params=None,\n",
    "    engine='plotly',\n",
    "    template='plotly_white',\n",
    ")\n",
    "fig"
   ]
  },
  {
   "cell_type": "code",
   "execution_count": null,
   "metadata": {},
   "outputs": [],
   "source": [
    "fig, axes = pdp_age_fare.plot(\n",
    "    plot_type='grid',\n",
    "    plot_pdp=True,\n",
    "    to_bins=False,\n",
    "    show_percentile=True,\n",
    "    which_classes=None,\n",
    "    figsize=None,\n",
    "    dpi=300,\n",
    "    ncols=2,\n",
    "    plot_params=None,\n",
    "    engine='matplotlib',\n",
    "    template='plotly_white',\n",
    ")"
   ]
  },
  {
   "cell_type": "markdown",
   "metadata": {},
   "source": [
    "## 4.2 'Age' and 'Sex'"
   ]
  },
  {
   "cell_type": "markdown",
   "metadata": {},
   "source": [
    "### 4.2.1 InterectTargetPlot"
   ]
  },
  {
   "cell_type": "code",
   "execution_count": null,
   "metadata": {},
   "outputs": [],
   "source": [
    "target_age_gender = info_plots.InterectTargetPlot(\n",
    "    df=titanic_data,\n",
    "    features=[\"Age\", \"Sex\"],\n",
    "    feature_names=[\"age\", \"gender\"],\n",
    "    target=titanic_target,\n",
    "    num_grid_points=10,\n",
    "    grid_types=\"percentile\",\n",
    "    percentile_ranges=None,\n",
    "    grid_ranges=None,\n",
    "    cust_grid_points=None,\n",
    "    show_outliers=False,\n",
    "    endpoints=True,\n",
    ")"
   ]
  },
  {
   "cell_type": "code",
   "execution_count": null,
   "metadata": {},
   "outputs": [],
   "source": [
    "fig, axes, summary_df = target_age_gender.plot(\n",
    "    show_percentile=True,\n",
    "    figsize=(1200, 700),\n",
    "    ncols=2,\n",
    "    annotate=True,\n",
    "    plot_params=None,\n",
    "    engine='plotly',\n",
    "    template='plotly_white',\n",
    ")\n",
    "fig"
   ]
  },
  {
   "cell_type": "code",
   "execution_count": null,
   "metadata": {},
   "outputs": [],
   "source": [
    "summary_df.head()"
   ]
  },
  {
   "cell_type": "code",
   "execution_count": null,
   "metadata": {},
   "outputs": [],
   "source": [
    "fig, axes, summary_df = target_age_gender.plot(\n",
    "    show_percentile=True,\n",
    "    figsize=None,\n",
    "    ncols=2,\n",
    "    annotate=True,\n",
    "    plot_params=None,\n",
    "    engine='matplotlib',\n",
    "    template='plotly_white',\n",
    ")"
   ]
  },
  {
   "cell_type": "markdown",
   "metadata": {},
   "source": [
    "### 4.2.2 InterectPredictPlot"
   ]
  },
  {
   "cell_type": "code",
   "execution_count": null,
   "metadata": {},
   "outputs": [],
   "source": [
    "predict_age_gender = info_plots.InterectPredictPlot(\n",
    "    model=titanic_model,\n",
    "    df=titanic_data,\n",
    "    model_features=titanic_features,\n",
    "    features=[\"Age\", \"Sex\"],\n",
    "    feature_names=[\"age\", \"gender\"],\n",
    "    pred_func=None,\n",
    "    n_classes=None,\n",
    "    num_grid_points=10,\n",
    "    grid_types='percentile',\n",
    "    percentile_ranges=None,\n",
    "    grid_ranges=None,\n",
    "    cust_grid_points=None,\n",
    "    show_outliers=False,\n",
    "    endpoints=True,\n",
    "    predict_kwds={},\n",
    "    chunk_size=-1,\n",
    ")"
   ]
  },
  {
   "cell_type": "code",
   "execution_count": null,
   "metadata": {},
   "outputs": [],
   "source": [
    "fig, axes, summary_df = predict_age_gender.plot(\n",
    "    show_percentile=True,\n",
    "    figsize=(1200, 700),\n",
    "    ncols=2,\n",
    "    annotate=True,\n",
    "    plot_params=None,\n",
    "    engine='plotly',\n",
    "    template='plotly_white',\n",
    ")\n",
    "fig"
   ]
  },
  {
   "cell_type": "code",
   "execution_count": null,
   "metadata": {},
   "outputs": [],
   "source": [
    "summary_df.head()"
   ]
  },
  {
   "cell_type": "code",
   "execution_count": null,
   "metadata": {},
   "outputs": [],
   "source": [
    "fig, axes, summary_df = predict_age_gender.plot(\n",
    "    show_percentile=True,\n",
    "    figsize=None,\n",
    "    ncols=2,\n",
    "    annotate=True,\n",
    "    plot_params=None,\n",
    "    engine='matplotlib',\n",
    "    template='plotly_white',\n",
    ")"
   ]
  },
  {
   "cell_type": "markdown",
   "metadata": {},
   "source": [
    "### 4.2.3 PDPInteract"
   ]
  },
  {
   "cell_type": "code",
   "execution_count": null,
   "metadata": {},
   "outputs": [],
   "source": [
    "pdp_age_gender = pdp.PDPInteract(\n",
    "    model=titanic_model,\n",
    "    df=titanic_data,\n",
    "    model_features=titanic_features,\n",
    "    features=[\"Age\", \"Sex\"],\n",
    "    feature_names=[\"age\", \"gender\"],\n",
    "    pred_func=None,\n",
    "    n_classes=None,\n",
    "    memory_limit=0.5,\n",
    "    chunk_size=-1,\n",
    "    n_jobs=1,\n",
    "    predict_kwds={},\n",
    "    data_transformer=None,\n",
    "    num_grid_points=10,\n",
    "    grid_types='percentile',\n",
    "    percentile_ranges=None,\n",
    "    grid_ranges=None,\n",
    "    cust_grid_points=None,\n",
    ")"
   ]
  },
  {
   "cell_type": "code",
   "execution_count": null,
   "metadata": {},
   "outputs": [],
   "source": [
    "fig, axes = pdp_age_gender.plot(\n",
    "    plot_type='contour',\n",
    "    plot_pdp=True,\n",
    "    to_bins=True,\n",
    "    show_percentile=True,\n",
    "    which_classes=None,\n",
    "    figsize=None,\n",
    "    dpi=300,\n",
    "    ncols=2,\n",
    "    plot_params=None,\n",
    "    engine='plotly',\n",
    "    template='plotly_white',\n",
    ")\n",
    "fig"
   ]
  },
  {
   "cell_type": "code",
   "execution_count": null,
   "metadata": {},
   "outputs": [],
   "source": [
    "fig, axes = pdp_age_gender.plot(\n",
    "    plot_type='grid',\n",
    "    plot_pdp=True,\n",
    "    to_bins=True,\n",
    "    show_percentile=True,\n",
    "    which_classes=None,\n",
    "    figsize=None,\n",
    "    dpi=300,\n",
    "    ncols=2,\n",
    "    plot_params=None,\n",
    "    engine='matplotlib',\n",
    "    template='plotly_white',\n",
    ")"
   ]
  },
  {
   "cell_type": "markdown",
   "metadata": {},
   "source": [
    "## 4.3 'Age' and 'Embarked'"
   ]
  },
  {
   "cell_type": "markdown",
   "metadata": {},
   "source": [
    "### 4.3.1 InterectTargetPlot"
   ]
  },
  {
   "cell_type": "code",
   "execution_count": null,
   "metadata": {},
   "outputs": [],
   "source": [
    "target_age_embarked = info_plots.InterectTargetPlot(\n",
    "    df=titanic_data,\n",
    "    features=[\"Age\", ['Embarked_C', 'Embarked_S', 'Embarked_Q']],\n",
    "    feature_names=[\"Age\", \"Embarked\"],\n",
    "    target=titanic_target,\n",
    "    num_grid_points=10,\n",
    "    grid_types=\"percentile\",\n",
    "    percentile_ranges=None,\n",
    "    grid_ranges=None,\n",
    "    cust_grid_points=None,\n",
    "    show_outliers=False,\n",
    "    endpoints=True,\n",
    ")"
   ]
  },
  {
   "cell_type": "code",
   "execution_count": null,
   "metadata": {},
   "outputs": [],
   "source": [
    "fig, axes, summary_df = target_age_embarked.plot(\n",
    "    show_percentile=True,\n",
    "    figsize=(1200, 700),\n",
    "    ncols=2,\n",
    "    annotate=True,\n",
    "    plot_params=None,\n",
    "    engine='plotly',\n",
    "    template='plotly_white',\n",
    ")\n",
    "fig"
   ]
  },
  {
   "cell_type": "code",
   "execution_count": null,
   "metadata": {},
   "outputs": [],
   "source": [
    "fig, axes, summary_df = target_age_embarked.plot(\n",
    "    show_percentile=True,\n",
    "    figsize=None,\n",
    "    ncols=2,\n",
    "    annotate=True,\n",
    "    plot_params=None,\n",
    "    engine='matplotlib',\n",
    "    template='plotly_white',\n",
    ")"
   ]
  },
  {
   "cell_type": "markdown",
   "metadata": {},
   "source": [
    "### 4.3.2 InterectPredictPlot"
   ]
  },
  {
   "cell_type": "code",
   "execution_count": null,
   "metadata": {},
   "outputs": [],
   "source": [
    "predict_age_embarked = info_plots.InterectPredictPlot(\n",
    "    model=titanic_model,\n",
    "    df=titanic_data,\n",
    "    model_features=titanic_features,\n",
    "    features=[\"Age\", ['Embarked_C', 'Embarked_S', 'Embarked_Q']],\n",
    "    feature_names=[\"Age\", \"Embarked\"],\n",
    "    pred_func=None,\n",
    "    n_classes=None,\n",
    "    num_grid_points=10,\n",
    "    grid_types='percentile',\n",
    "    percentile_ranges=None,\n",
    "    grid_ranges=None,\n",
    "    cust_grid_points=None,\n",
    "    show_outliers=False,\n",
    "    endpoints=True,\n",
    "    predict_kwds={},\n",
    "    chunk_size=-1,\n",
    ")"
   ]
  },
  {
   "cell_type": "code",
   "execution_count": null,
   "metadata": {},
   "outputs": [],
   "source": [
    "fig, axes, summary_df = predict_age_embarked.plot(\n",
    "    show_percentile=True,\n",
    "    figsize=(1200, 700),\n",
    "    ncols=2,\n",
    "    annotate=True,\n",
    "    plot_params=None,\n",
    "    engine='plotly',\n",
    "    template='plotly_white',\n",
    ")\n",
    "fig"
   ]
  },
  {
   "cell_type": "code",
   "execution_count": null,
   "metadata": {},
   "outputs": [],
   "source": [
    "fig, axes, summary_df = predict_age_embarked.plot(\n",
    "    show_percentile=True,\n",
    "    figsize=None,\n",
    "    ncols=2,\n",
    "    annotate=True,\n",
    "    plot_params=None,\n",
    "    engine='matplotlib',\n",
    "    template='plotly_white',\n",
    ")"
   ]
  },
  {
   "cell_type": "markdown",
   "metadata": {},
   "source": [
    "### 4.3.3 PDPInteract"
   ]
  },
  {
   "cell_type": "code",
   "execution_count": null,
   "metadata": {},
   "outputs": [],
   "source": [
    "pdp_embark_age = pdp.PDPInteract(\n",
    "    model=titanic_model,\n",
    "    df=titanic_data,\n",
    "    model_features=titanic_features,\n",
    "    features=[\"Age\", ['Embarked_C', 'Embarked_S', 'Embarked_Q']],\n",
    "    feature_names=[\"Age\", \"Embarked\"],\n",
    ")"
   ]
  },
  {
   "cell_type": "code",
   "execution_count": null,
   "metadata": {},
   "outputs": [],
   "source": [
    "fig, axes = pdp_embark_age.plot(\n",
    "    plot_type=\"grid\",\n",
    "    plot_pdp=True,\n",
    "    show_percentile=True,\n",
    "    engine=\"plotly\",\n",
    "    template=\"plotly_white\",\n",
    ")\n",
    "fig"
   ]
  },
  {
   "cell_type": "code",
   "execution_count": null,
   "metadata": {},
   "outputs": [],
   "source": [
    "fig, axes = pdp_embark_age.plot(\n",
    "    plot_type=\"grid\",\n",
    "    plot_pdp=True,\n",
    "    show_percentile=True,\n",
    "    engine=\"matplotlib\",\n",
    "    template=\"plotly_white\",\n",
    ")"
   ]
  },
  {
   "cell_type": "markdown",
   "metadata": {},
   "source": [
    "## 4.4 'Sex' and 'Embarked'"
   ]
  },
  {
   "cell_type": "markdown",
   "metadata": {},
   "source": [
    "### 4.4.1 InterectTargetPlot"
   ]
  },
  {
   "cell_type": "code",
   "execution_count": null,
   "metadata": {},
   "outputs": [],
   "source": [
    "target_gender_embarked = info_plots.InterectTargetPlot(\n",
    "    df=titanic_data,\n",
    "    features=[\"Sex\", ['Embarked_C', 'Embarked_S', 'Embarked_Q']],\n",
    "    feature_names=[\"gender\", \"embarked\"],\n",
    "    target=titanic_target,\n",
    ")"
   ]
  },
  {
   "cell_type": "code",
   "execution_count": null,
   "metadata": {},
   "outputs": [],
   "source": [
    "fig, axes, summary_df = target_gender_embarked.plot(\n",
    "    figsize=None,\n",
    "    dpi=300,\n",
    "    ncols=2,\n",
    "    annotate=True,\n",
    "    plot_params=None,\n",
    "    engine='plotly',\n",
    "    template='plotly_white',\n",
    ")\n",
    "fig"
   ]
  },
  {
   "cell_type": "code",
   "execution_count": null,
   "metadata": {},
   "outputs": [],
   "source": [
    "summary_df"
   ]
  },
  {
   "cell_type": "code",
   "execution_count": null,
   "metadata": {},
   "outputs": [],
   "source": [
    "fig, axes, summary_df = target_gender_embarked.plot(\n",
    "    figsize=None,\n",
    "    dpi=300,\n",
    "    ncols=2,\n",
    "    annotate=True,\n",
    "    plot_params=None,\n",
    "    engine='matplotlib',\n",
    "    template='plotly_white',\n",
    ")"
   ]
  },
  {
   "cell_type": "markdown",
   "metadata": {},
   "source": [
    "### 4.4.2 InterectPredictPlot"
   ]
  },
  {
   "cell_type": "code",
   "execution_count": null,
   "metadata": {},
   "outputs": [],
   "source": [
    "predict_gender_embarked = info_plots.InterectPredictPlot(\n",
    "    model=titanic_model,\n",
    "    df=titanic_data,\n",
    "    model_features=titanic_features,\n",
    "    features=[\"Sex\", ['Embarked_C', 'Embarked_S', 'Embarked_Q']],\n",
    "    feature_names=[\"gender\", \"embarked\"],\n",
    ")"
   ]
  },
  {
   "cell_type": "code",
   "execution_count": null,
   "metadata": {},
   "outputs": [],
   "source": [
    "fig, axes, summary_df = predict_gender_embarked.plot(\n",
    "    figsize=None,\n",
    "    dpi=300,\n",
    "    ncols=2,\n",
    "    annotate=True,\n",
    "    plot_params=None,\n",
    "    engine='plotly',\n",
    "    template='plotly_white',\n",
    ")\n",
    "fig"
   ]
  },
  {
   "cell_type": "code",
   "execution_count": null,
   "metadata": {},
   "outputs": [],
   "source": [
    "fig, axes, summary_df = predict_gender_embarked.plot(\n",
    "    figsize=None,\n",
    "    dpi=300,\n",
    "    ncols=2,\n",
    "    annotate=True,\n",
    "    plot_params=None,\n",
    "    engine='matplotlib',\n",
    "    template='plotly_white',\n",
    ")"
   ]
  },
  {
   "cell_type": "markdown",
   "metadata": {},
   "source": [
    "### 4.4.3 PDPInteract"
   ]
  },
  {
   "cell_type": "code",
   "execution_count": null,
   "metadata": {},
   "outputs": [],
   "source": [
    "pdp_gender_embark = pdp.PDPInteract(\n",
    "    model=titanic_model,\n",
    "    df=titanic_data,\n",
    "    model_features=titanic_features,\n",
    "    features=[\"Sex\", ['Embarked_C', 'Embarked_S', 'Embarked_Q']],\n",
    "    feature_names=[\"gender\", \"embarked\"],\n",
    ")"
   ]
  },
  {
   "cell_type": "code",
   "execution_count": null,
   "metadata": {},
   "outputs": [],
   "source": [
    "fig, axes = pdp_gender_embark.plot(\n",
    "    plot_type=\"grid\",\n",
    "    plot_pdp=True,\n",
    "    engine=\"plotly\",\n",
    "    template=\"plotly_white\",\n",
    ")\n",
    "fig"
   ]
  },
  {
   "cell_type": "code",
   "execution_count": null,
   "metadata": {},
   "outputs": [],
   "source": [
    "fig, axes = pdp_gender_embark.plot(\n",
    "    plot_type=\"grid\",\n",
    "    plot_pdp=True,\n",
    "    engine=\"matplotlib\",\n",
    "    template=\"plotly_white\",\n",
    ")"
   ]
  }
 ],
 "metadata": {
  "anaconda-cloud": {},
  "kernelspec": {
   "display_name": "Python 3 (ipykernel)",
   "language": "python",
   "name": "python3"
  },
  "language_info": {
   "codemirror_mode": {
    "name": "ipython",
    "version": 3
   },
   "file_extension": ".py",
   "mimetype": "text/x-python",
   "name": "python",
   "nbconvert_exporter": "python",
   "pygments_lexer": "ipython3",
   "version": "3.9.13"
  }
 },
 "nbformat": 4,
 "nbformat_minor": 4
}
